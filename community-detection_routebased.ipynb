{
 "cells": [
  {
   "cell_type": "markdown",
   "id": "225cc1ad",
   "metadata": {},
   "source": [
    "----\n",
    "Group Members:  \n",
    "    1. Ye,Shenghua  \n",
    "    2.  \n",
    "    3.  \n",
    "    4.  \n",
    "    5.  "
   ]
  },
  {
   "cell_type": "markdown",
   "id": "716ff171",
   "metadata": {},
   "source": [
    "# Read Data"
   ]
  },
  {
   "cell_type": "code",
   "execution_count": 1,
   "id": "0ecdb8dd",
   "metadata": {},
   "outputs": [],
   "source": [
    "# Using pandas\n",
    "import pandas as pd\n",
    "pd.set_option('display.max_rows',10)\n",
    "pd.set_option('display.min_rows',10)"
   ]
  },
  {
   "cell_type": "code",
   "execution_count": 2,
   "id": "dcc0905d",
   "metadata": {},
   "outputs": [],
   "source": [
    "# Read the .dat file (assuming tab-separated values)\n",
    "airports = pd.read_csv('.\\\\data\\\\airports.dat', sep=',',header = None, encoding='utf-8')  # Change separator as needed\n",
    "airports.columns = [\n",
    "    \"Airport ID\", \"Name\", \"City\", \"Country\", \n",
    "    \"IATA\", \"ICAO\", \"Latitude\", \"Longitude\", \n",
    "    \"Altitude\", \"Timezone\", \"DST\", \"Tz database time zone\", \n",
    "    \"Type\", \"Source\"\n",
    "]\n",
    "routes = pd.read_csv('.\\\\data\\\\routes.dat', sep=',',header = None, encoding='utf-8')  # Change separator as needed\n",
    "routes.columns = [\n",
    "    \"Airline\", \"Airline ID\", \"Source airport\", \"Source airport ID\", \n",
    "    \"Destination airport\", \"Destination airport ID\", \"Codeshare\", \n",
    "    \"Stops\", \"Equipment\"\n",
    "]"
   ]
  },
  {
   "cell_type": "code",
   "execution_count": 3,
   "id": "b74663f9",
   "metadata": {},
   "outputs": [
    {
     "data": {
      "text/html": [
       "<div>\n",
       "<style scoped>\n",
       "    .dataframe tbody tr th:only-of-type {\n",
       "        vertical-align: middle;\n",
       "    }\n",
       "\n",
       "    .dataframe tbody tr th {\n",
       "        vertical-align: top;\n",
       "    }\n",
       "\n",
       "    .dataframe thead th {\n",
       "        text-align: right;\n",
       "    }\n",
       "</style>\n",
       "<table border=\"1\" class=\"dataframe\">\n",
       "  <thead>\n",
       "    <tr style=\"text-align: right;\">\n",
       "      <th></th>\n",
       "      <th>Airport ID</th>\n",
       "      <th>Name</th>\n",
       "      <th>City</th>\n",
       "      <th>Country</th>\n",
       "      <th>IATA</th>\n",
       "      <th>ICAO</th>\n",
       "      <th>Latitude</th>\n",
       "      <th>Longitude</th>\n",
       "      <th>Altitude</th>\n",
       "      <th>Timezone</th>\n",
       "      <th>DST</th>\n",
       "      <th>Tz database time zone</th>\n",
       "      <th>Type</th>\n",
       "      <th>Source</th>\n",
       "    </tr>\n",
       "  </thead>\n",
       "  <tbody>\n",
       "    <tr>\n",
       "      <th>0</th>\n",
       "      <td>1</td>\n",
       "      <td>Goroka Airport</td>\n",
       "      <td>Goroka</td>\n",
       "      <td>Papua New Guinea</td>\n",
       "      <td>GKA</td>\n",
       "      <td>AYGA</td>\n",
       "      <td>-6.081690</td>\n",
       "      <td>145.391998</td>\n",
       "      <td>5282</td>\n",
       "      <td>10</td>\n",
       "      <td>U</td>\n",
       "      <td>Pacific/Port_Moresby</td>\n",
       "      <td>airport</td>\n",
       "      <td>OurAirports</td>\n",
       "    </tr>\n",
       "    <tr>\n",
       "      <th>1</th>\n",
       "      <td>2</td>\n",
       "      <td>Madang Airport</td>\n",
       "      <td>Madang</td>\n",
       "      <td>Papua New Guinea</td>\n",
       "      <td>MAG</td>\n",
       "      <td>AYMD</td>\n",
       "      <td>-5.207080</td>\n",
       "      <td>145.789001</td>\n",
       "      <td>20</td>\n",
       "      <td>10</td>\n",
       "      <td>U</td>\n",
       "      <td>Pacific/Port_Moresby</td>\n",
       "      <td>airport</td>\n",
       "      <td>OurAirports</td>\n",
       "    </tr>\n",
       "    <tr>\n",
       "      <th>2</th>\n",
       "      <td>3</td>\n",
       "      <td>Mount Hagen Kagamuga Airport</td>\n",
       "      <td>Mount Hagen</td>\n",
       "      <td>Papua New Guinea</td>\n",
       "      <td>HGU</td>\n",
       "      <td>AYMH</td>\n",
       "      <td>-5.826790</td>\n",
       "      <td>144.296005</td>\n",
       "      <td>5388</td>\n",
       "      <td>10</td>\n",
       "      <td>U</td>\n",
       "      <td>Pacific/Port_Moresby</td>\n",
       "      <td>airport</td>\n",
       "      <td>OurAirports</td>\n",
       "    </tr>\n",
       "    <tr>\n",
       "      <th>3</th>\n",
       "      <td>4</td>\n",
       "      <td>Nadzab Airport</td>\n",
       "      <td>Nadzab</td>\n",
       "      <td>Papua New Guinea</td>\n",
       "      <td>LAE</td>\n",
       "      <td>AYNZ</td>\n",
       "      <td>-6.569803</td>\n",
       "      <td>146.725977</td>\n",
       "      <td>239</td>\n",
       "      <td>10</td>\n",
       "      <td>U</td>\n",
       "      <td>Pacific/Port_Moresby</td>\n",
       "      <td>airport</td>\n",
       "      <td>OurAirports</td>\n",
       "    </tr>\n",
       "    <tr>\n",
       "      <th>4</th>\n",
       "      <td>5</td>\n",
       "      <td>Port Moresby Jacksons International Airport</td>\n",
       "      <td>Port Moresby</td>\n",
       "      <td>Papua New Guinea</td>\n",
       "      <td>POM</td>\n",
       "      <td>AYPY</td>\n",
       "      <td>-9.443380</td>\n",
       "      <td>147.220001</td>\n",
       "      <td>146</td>\n",
       "      <td>10</td>\n",
       "      <td>U</td>\n",
       "      <td>Pacific/Port_Moresby</td>\n",
       "      <td>airport</td>\n",
       "      <td>OurAirports</td>\n",
       "    </tr>\n",
       "  </tbody>\n",
       "</table>\n",
       "</div>"
      ],
      "text/plain": [
       "   Airport ID                                         Name          City  \\\n",
       "0           1                               Goroka Airport        Goroka   \n",
       "1           2                               Madang Airport        Madang   \n",
       "2           3                 Mount Hagen Kagamuga Airport   Mount Hagen   \n",
       "3           4                               Nadzab Airport        Nadzab   \n",
       "4           5  Port Moresby Jacksons International Airport  Port Moresby   \n",
       "\n",
       "            Country IATA  ICAO  Latitude   Longitude  Altitude Timezone DST  \\\n",
       "0  Papua New Guinea  GKA  AYGA -6.081690  145.391998      5282       10   U   \n",
       "1  Papua New Guinea  MAG  AYMD -5.207080  145.789001        20       10   U   \n",
       "2  Papua New Guinea  HGU  AYMH -5.826790  144.296005      5388       10   U   \n",
       "3  Papua New Guinea  LAE  AYNZ -6.569803  146.725977       239       10   U   \n",
       "4  Papua New Guinea  POM  AYPY -9.443380  147.220001       146       10   U   \n",
       "\n",
       "  Tz database time zone     Type       Source  \n",
       "0  Pacific/Port_Moresby  airport  OurAirports  \n",
       "1  Pacific/Port_Moresby  airport  OurAirports  \n",
       "2  Pacific/Port_Moresby  airport  OurAirports  \n",
       "3  Pacific/Port_Moresby  airport  OurAirports  \n",
       "4  Pacific/Port_Moresby  airport  OurAirports  "
      ]
     },
     "execution_count": 3,
     "metadata": {},
     "output_type": "execute_result"
    }
   ],
   "source": [
    "airports.head()"
   ]
  },
  {
   "cell_type": "code",
   "execution_count": 4,
   "id": "5c5e9ef2",
   "metadata": {},
   "outputs": [
    {
     "data": {
      "text/html": [
       "<div>\n",
       "<style scoped>\n",
       "    .dataframe tbody tr th:only-of-type {\n",
       "        vertical-align: middle;\n",
       "    }\n",
       "\n",
       "    .dataframe tbody tr th {\n",
       "        vertical-align: top;\n",
       "    }\n",
       "\n",
       "    .dataframe thead th {\n",
       "        text-align: right;\n",
       "    }\n",
       "</style>\n",
       "<table border=\"1\" class=\"dataframe\">\n",
       "  <thead>\n",
       "    <tr style=\"text-align: right;\">\n",
       "      <th></th>\n",
       "      <th>Airline</th>\n",
       "      <th>Airline ID</th>\n",
       "      <th>Source airport</th>\n",
       "      <th>Source airport ID</th>\n",
       "      <th>Destination airport</th>\n",
       "      <th>Destination airport ID</th>\n",
       "      <th>Codeshare</th>\n",
       "      <th>Stops</th>\n",
       "      <th>Equipment</th>\n",
       "    </tr>\n",
       "  </thead>\n",
       "  <tbody>\n",
       "    <tr>\n",
       "      <th>0</th>\n",
       "      <td>2B</td>\n",
       "      <td>410</td>\n",
       "      <td>AER</td>\n",
       "      <td>2965</td>\n",
       "      <td>KZN</td>\n",
       "      <td>2990</td>\n",
       "      <td>NaN</td>\n",
       "      <td>0</td>\n",
       "      <td>CR2</td>\n",
       "    </tr>\n",
       "    <tr>\n",
       "      <th>1</th>\n",
       "      <td>2B</td>\n",
       "      <td>410</td>\n",
       "      <td>ASF</td>\n",
       "      <td>2966</td>\n",
       "      <td>KZN</td>\n",
       "      <td>2990</td>\n",
       "      <td>NaN</td>\n",
       "      <td>0</td>\n",
       "      <td>CR2</td>\n",
       "    </tr>\n",
       "    <tr>\n",
       "      <th>2</th>\n",
       "      <td>2B</td>\n",
       "      <td>410</td>\n",
       "      <td>ASF</td>\n",
       "      <td>2966</td>\n",
       "      <td>MRV</td>\n",
       "      <td>2962</td>\n",
       "      <td>NaN</td>\n",
       "      <td>0</td>\n",
       "      <td>CR2</td>\n",
       "    </tr>\n",
       "    <tr>\n",
       "      <th>3</th>\n",
       "      <td>2B</td>\n",
       "      <td>410</td>\n",
       "      <td>CEK</td>\n",
       "      <td>2968</td>\n",
       "      <td>KZN</td>\n",
       "      <td>2990</td>\n",
       "      <td>NaN</td>\n",
       "      <td>0</td>\n",
       "      <td>CR2</td>\n",
       "    </tr>\n",
       "    <tr>\n",
       "      <th>4</th>\n",
       "      <td>2B</td>\n",
       "      <td>410</td>\n",
       "      <td>CEK</td>\n",
       "      <td>2968</td>\n",
       "      <td>OVB</td>\n",
       "      <td>4078</td>\n",
       "      <td>NaN</td>\n",
       "      <td>0</td>\n",
       "      <td>CR2</td>\n",
       "    </tr>\n",
       "  </tbody>\n",
       "</table>\n",
       "</div>"
      ],
      "text/plain": [
       "  Airline Airline ID Source airport Source airport ID Destination airport  \\\n",
       "0      2B        410            AER              2965                 KZN   \n",
       "1      2B        410            ASF              2966                 KZN   \n",
       "2      2B        410            ASF              2966                 MRV   \n",
       "3      2B        410            CEK              2968                 KZN   \n",
       "4      2B        410            CEK              2968                 OVB   \n",
       "\n",
       "  Destination airport ID Codeshare  Stops Equipment  \n",
       "0                   2990       NaN      0       CR2  \n",
       "1                   2990       NaN      0       CR2  \n",
       "2                   2962       NaN      0       CR2  \n",
       "3                   2990       NaN      0       CR2  \n",
       "4                   4078       NaN      0       CR2  "
      ]
     },
     "execution_count": 4,
     "metadata": {},
     "output_type": "execute_result"
    }
   ],
   "source": [
    "routes.head()"
   ]
  },
  {
   "cell_type": "code",
   "execution_count": 5,
   "id": "ce00776c",
   "metadata": {},
   "outputs": [
    {
     "data": {
      "text/plain": [
       "(0, 0)"
      ]
     },
     "execution_count": 5,
     "metadata": {},
     "output_type": "execute_result"
    }
   ],
   "source": [
    "# check duplicated\n",
    "airports.duplicated().sum(), routes.duplicated().sum()"
   ]
  },
  {
   "cell_type": "code",
   "execution_count": 6,
   "id": "d36ea1f6",
   "metadata": {},
   "outputs": [
    {
     "data": {
      "text/html": [
       "<div>\n",
       "<style scoped>\n",
       "    .dataframe tbody tr th:only-of-type {\n",
       "        vertical-align: middle;\n",
       "    }\n",
       "\n",
       "    .dataframe tbody tr th {\n",
       "        vertical-align: top;\n",
       "    }\n",
       "\n",
       "    .dataframe thead th {\n",
       "        text-align: right;\n",
       "    }\n",
       "</style>\n",
       "<table border=\"1\" class=\"dataframe\">\n",
       "  <thead>\n",
       "    <tr style=\"text-align: right;\">\n",
       "      <th></th>\n",
       "      <th>Airline</th>\n",
       "      <th>Airline ID</th>\n",
       "      <th>Source airport</th>\n",
       "      <th>Source airport ID</th>\n",
       "      <th>Destination airport</th>\n",
       "      <th>Destination airport ID</th>\n",
       "      <th>Codeshare</th>\n",
       "      <th>Stops</th>\n",
       "      <th>Equipment</th>\n",
       "    </tr>\n",
       "  </thead>\n",
       "  <tbody>\n",
       "  </tbody>\n",
       "</table>\n",
       "</div>"
      ],
      "text/plain": [
       "Empty DataFrame\n",
       "Columns: [Airline, Airline ID, Source airport, Source airport ID, Destination airport, Destination airport ID, Codeshare, Stops, Equipment]\n",
       "Index: []"
      ]
     },
     "execution_count": 6,
     "metadata": {},
     "output_type": "execute_result"
    }
   ],
   "source": [
    "routes[routes['Destination airport'].str.len() > 3]"
   ]
  },
  {
   "cell_type": "code",
   "execution_count": 7,
   "id": "240e2d44",
   "metadata": {},
   "outputs": [
    {
     "data": {
      "text/html": [
       "<div>\n",
       "<style scoped>\n",
       "    .dataframe tbody tr th:only-of-type {\n",
       "        vertical-align: middle;\n",
       "    }\n",
       "\n",
       "    .dataframe tbody tr th {\n",
       "        vertical-align: top;\n",
       "    }\n",
       "\n",
       "    .dataframe thead th {\n",
       "        text-align: right;\n",
       "    }\n",
       "</style>\n",
       "<table border=\"1\" class=\"dataframe\">\n",
       "  <thead>\n",
       "    <tr style=\"text-align: right;\">\n",
       "      <th></th>\n",
       "      <th>Airline</th>\n",
       "      <th>Airline ID</th>\n",
       "      <th>Source airport</th>\n",
       "      <th>Source airport ID</th>\n",
       "      <th>Destination airport</th>\n",
       "      <th>Destination airport ID</th>\n",
       "      <th>Codeshare</th>\n",
       "      <th>Stops</th>\n",
       "      <th>Equipment</th>\n",
       "    </tr>\n",
       "  </thead>\n",
       "  <tbody>\n",
       "  </tbody>\n",
       "</table>\n",
       "</div>"
      ],
      "text/plain": [
       "Empty DataFrame\n",
       "Columns: [Airline, Airline ID, Source airport, Source airport ID, Destination airport, Destination airport ID, Codeshare, Stops, Equipment]\n",
       "Index: []"
      ]
     },
     "execution_count": 7,
     "metadata": {},
     "output_type": "execute_result"
    }
   ],
   "source": [
    "routes[routes['Source airport'].str.len() > 3]"
   ]
  },
  {
   "cell_type": "markdown",
   "id": "814e22a0",
   "metadata": {},
   "source": [
    "All the aiports in routes use IATA"
   ]
  },
  {
   "cell_type": "markdown",
   "id": "9fac663c",
   "metadata": {},
   "source": [
    "# Data Preprocess"
   ]
  },
  {
   "cell_type": "markdown",
   "id": "cfd1dbf0",
   "metadata": {},
   "source": [
    "We select routes that had appeared n or more times, and select airports which is existed in the filtered route data."
   ]
  },
  {
   "cell_type": "markdown",
   "id": "ae91d4e2",
   "metadata": {},
   "source": [
    "## Columns Select"
   ]
  },
  {
   "cell_type": "code",
   "execution_count": 8,
   "id": "52c61921",
   "metadata": {},
   "outputs": [],
   "source": [
    "airports_s = airports.loc[:,['IATA','Latitude','Longitude']]\n",
    "routes_s = routes.loc[:,['Source airport','Destination airport']]\n",
    "# Delete all airports without IATA\n",
    "airports_s = airports_s[airports_s['IATA']!='\\\\N']"
   ]
  },
  {
   "cell_type": "code",
   "execution_count": 9,
   "id": "5a312a18",
   "metadata": {},
   "outputs": [
    {
     "data": {
      "text/plain": [
       "(IATA         0\n",
       " Latitude     0\n",
       " Longitude    0\n",
       " dtype: int64,\n",
       " Source airport         0\n",
       " Destination airport    0\n",
       " dtype: int64)"
      ]
     },
     "execution_count": 9,
     "metadata": {},
     "output_type": "execute_result"
    }
   ],
   "source": [
    "# check null\n",
    "airports_s.isnull().sum(), routes_s.isnull().sum()"
   ]
  },
  {
   "cell_type": "markdown",
   "id": "0a2c5346",
   "metadata": {},
   "source": [
    "## Route counts"
   ]
  },
  {
   "cell_type": "code",
   "execution_count": 10,
   "id": "324c83ba",
   "metadata": {},
   "outputs": [
    {
     "name": "stdout",
     "output_type": "stream",
     "text": [
      "Length of routes list: 1621\n"
     ]
    }
   ],
   "source": [
    "#  Count the number of times each route appears\n",
    "route_counts = routes_s.value_counts().reset_index()\n",
    "route_counts.columns = ['Source airport', 'Destination airport', 'Count']\n",
    "\n",
    "def filtered_routes_list(n,m=9999):\n",
    "    # save as [('Source airport','Destination airport')]\n",
    "    routes_list = [\n",
    "    (row['Source airport'], row['Destination airport'])\n",
    "    for _, row in route_counts[(route_counts['Count'] >= n) & (route_counts['Count'] < m)].iterrows()\n",
    "]\n",
    "    return routes_list\n",
    "\n",
    "def filtered_routes_dict(n,m=9999):\n",
    "    # save as {('Source airport','Destination airport'): count}\n",
    "    routes_dict = {\n",
    "    (row['Source airport'], row['Destination airport']): row['Count']\n",
    "    for _, row in route_counts[(route_counts['Count'] >= n) & (route_counts['Count'] < m)].iterrows()\n",
    "    }\n",
    "    return routes_dict\n",
    "\n",
    "routes_list = filtered_routes_list(5) # As the data is too big, we only choose routes that had appeared five or more times\n",
    "routes_dict = filtered_routes_dict(5)\n",
    "print(\"Length of routes list:\", len(routes_list))"
   ]
  },
  {
   "cell_type": "markdown",
   "id": "91df04b2",
   "metadata": {},
   "source": [
    "## Flight counts in each airport (filtered by routes selected)"
   ]
  },
  {
   "cell_type": "code",
   "execution_count": 12,
   "id": "d11fcc35",
   "metadata": {},
   "outputs": [
    {
     "name": "stdout",
     "output_type": "stream",
     "text": [
      "Length of flight counts list: 385\n"
     ]
    }
   ],
   "source": [
    "# Total takeoffs and landings at each airport\n",
    "departure_counts = route_counts.groupby('Source airport')['Count'].sum().rename('Departures')\n",
    "arrival_counts = route_counts.groupby('Destination airport')['Count'].sum().rename('Arrivals')\n",
    "flight_counts = pd.concat([departure_counts, arrival_counts], axis=1).fillna(0)\n",
    "\n",
    "def filtered_airports_counts_list(routes_list):\n",
    "    # Save as [('Airport'),flight counts]\n",
    "    \n",
    "    # Extract all airports involved in the routes_list, and filter airports in flight_counts that are not included in routes_list\n",
    "    filtered_flight_counts = flight_counts.loc[\n",
    "        flight_counts.index.intersection({airport for route in routes_list for airport in route})\n",
    "    ]\n",
    "    # Convert to pycharts input format\n",
    "    airports_counts_list = sorted(\n",
    "        [\n",
    "            (airport, int(departures + arrivals))\n",
    "            for airport, departures, arrivals in filtered_flight_counts.itertuples(index=True, name=None)\n",
    "        ],\n",
    "        key=lambda x: x[1],  # sort by total flights counts\n",
    "        reverse=True\n",
    "    )\n",
    "    return airports_counts_list\n",
    "\n",
    "airports_counts_list = filtered_airports_counts_list(filtered_routes_list(5))\n",
    "print(\"Length of flight counts list:\", len(airports_counts_list))"
   ]
  },
  {
   "cell_type": "markdown",
   "id": "5429e5ea",
   "metadata": {},
   "source": [
    "## Add coordinate points in Geo()"
   ]
  },
  {
   "cell_type": "code",
   "execution_count": 13,
   "id": "65c85206",
   "metadata": {},
   "outputs": [],
   "source": [
    "from pyecharts.charts import Geo\n",
    "\n",
    "for i in range(len(airports_s)):\n",
    "    Geo().add_coordinate(\n",
    "    name = airports_s.iloc[i,0],\n",
    "    latitude = airports_s.iloc[i,1],\n",
    "    longitude =  airports_s.iloc[i,2]\n",
    "    )"
   ]
  },
  {
   "cell_type": "markdown",
   "id": "05e8a70e",
   "metadata": {},
   "source": [
    "----\n",
    "Preliminary visualization\n",
    "----"
   ]
  },
  {
   "cell_type": "code",
   "execution_count": 38,
   "id": "306fadc9",
   "metadata": {},
   "outputs": [
    {
     "data": {
      "text/plain": [
       "'C:\\\\Users\\\\laoth\\\\Desktop\\\\study\\\\web\\\\echarts\\\\RouteBased\\\\Aiports&Routes.html'"
      ]
     },
     "execution_count": 38,
     "metadata": {},
     "output_type": "execute_result"
    }
   ],
   "source": [
    "from pyecharts import options as opts\n",
    "from pyecharts.globals import ChartType, SymbolType\n",
    "\n",
    "# Initialize the Geo object\n",
    "c = Geo(init_opts=opts.InitOpts(width=\"1800px\", height=\"1000px\")) # Full the screen\n",
    "c.add_schema(maptype=\"world\")\n",
    "\n",
    "# Add airport scatter points\n",
    "c.add(\n",
    "    \"Airports\",\n",
    "    data_pair=airports_counts_list,  # e.g., a list of tuples [(\"ATL\", 100), (\"JFK\", 80), ...]\n",
    "    type_=ChartType.EFFECT_SCATTER,\n",
    "    color=\"red\",\n",
    "    symbol_size=3,\n",
    ")\n",
    "\n",
    "# Add airline routes for different ranges\n",
    "n = 2\n",
    "for i in range(n):\n",
    "    color = f\"rgb({255 - 250/n*(i+1)},160, {250/n*(i+1)})\"\n",
    "    c.add(\n",
    "        f\"Airline routes - counts [{5+i*2},{7+i*2})\",\n",
    "        data_pair=filtered_routes_list(5+i*2, 7+i*2),  # Replace with your route filtering function\n",
    "        type_=ChartType.LINES,\n",
    "        symbol_size=0,\n",
    "        effect_opts=opts.EffectOpts(\n",
    "            symbol=SymbolType.ARROW, symbol_size=3, color=color,  # Dynamic RGB color\n",
    "        ),\n",
    "        linestyle_opts=opts.LineStyleOpts(\n",
    "            width=0.1, curve=0.4, opacity=0.4 + 0.6/n*i, type_=\"solid\",color=color,  # Dynamic RGB color\n",
    "        ),\n",
    "    )\n",
    "    \n",
    "# Add the left airline routes\n",
    "c.add(\n",
    "    f\"Airline routes - counts [{5+n*2},9999)\",\n",
    "    data_pair=filtered_routes_list(5+n*2),\n",
    "    type_=ChartType.LINES,\n",
    "    symbol_size = 0,\n",
    "    effect_opts=opts.EffectOpts(        \n",
    "        symbol=SymbolType.ARROW, symbol_size=3, color=\"blue\"\n",
    "    ),\n",
    "    linestyle_opts=opts.LineStyleOpts(width = 0.1, curve=0.4, color = \"blue\",opacity = 1, type_ = 'solid'),\n",
    ")\n",
    "\n",
    "c.set_series_opts(label_opts=opts.LabelOpts(is_show=False))\n",
    "c.set_global_opts(title_opts=opts.TitleOpts(title=\"Aiport and Routes (Basic)\",pos_left = 'center'),\n",
    "                  legend_opts = opts.LegendOpts(type_ = 'scroll',orient = 'vertical',pos_left = 'left'))\n",
    "c.render('echarts\\\\RouteBased\\\\Aiports&Routes.html') # save as .html\n",
    "# c.render_notebook() # if you want to display the graph in notebook, add this line, and set (width=\"900px\", height=\"500px\")"
   ]
  },
  {
   "cell_type": "markdown",
   "id": "649acc3a",
   "metadata": {},
   "source": [
    "# Community Detection"
   ]
  },
  {
   "cell_type": "code",
   "execution_count": 15,
   "id": "e96c5f13",
   "metadata": {},
   "outputs": [],
   "source": [
    "import networkx as nx\n",
    "Community = nx.Graph()\n",
    "Community.add_edges_from(routes_list)"
   ]
  },
  {
   "cell_type": "code",
   "execution_count": 16,
   "id": "4f453075",
   "metadata": {},
   "outputs": [],
   "source": [
    "# add flight counts to each nodes\n",
    "def create_nodes_count(nodes,airports_counts_list):\n",
    "    nodes_count = {}\n",
    "    for key in nodes.keys():\n",
    "        nodes_count[key] = [\n",
    "            (airport,count)\n",
    "            for airport,count in airports_counts_list\n",
    "            if airport in nodes[key]\n",
    "        ]\n",
    "    return nodes_count"
   ]
  },
  {
   "cell_type": "markdown",
   "id": "508dd58d",
   "metadata": {},
   "source": [
    "## Clique detection"
   ]
  },
  {
   "cell_type": "code",
   "execution_count": 17,
   "id": "036ad924",
   "metadata": {},
   "outputs": [],
   "source": [
    "# Find all cliques in the graph\n",
    "cliques = list(nx.find_cliques(Community))\n",
    "# cliques"
   ]
  },
  {
   "cell_type": "markdown",
   "id": "06e9af31",
   "metadata": {},
   "source": [
    "### Clique data"
   ]
  },
  {
   "cell_type": "code",
   "execution_count": 18,
   "id": "b6b31a9b",
   "metadata": {},
   "outputs": [],
   "source": [
    "# Create an empty dictionary to store the nodes by clique size\n",
    "clique_nodes = {}\n",
    "\n",
    "# Iterate through each detected clique\n",
    "for clique in cliques:\n",
    "    clique_length = len(clique)  # Get the size of the clique\n",
    "    \n",
    "    # If the clique length is already a key, add the nodes to the list of nodes for this length\n",
    "    cli = clique.copy()\n",
    "    if clique_length in clique_nodes:\n",
    "        clique_nodes[clique_length] += cli\n",
    "    else:\n",
    "        clique_nodes[clique_length] = cli\n",
    "\n",
    "# Remove duplicates by converting each list to a set and then back to a list\n",
    "for length in clique_nodes:\n",
    "    clique_nodes[length] = list(set(clique_nodes[length]))\n",
    "\n",
    "clique_nodes = dict(sorted(clique_nodes.items()))\n",
    "# clique_nodes"
   ]
  },
  {
   "cell_type": "code",
   "execution_count": 19,
   "id": "1a9c1e21",
   "metadata": {},
   "outputs": [],
   "source": [
    "clique_nodes_count = create_nodes_count(clique_nodes,airports_counts_list)"
   ]
  },
  {
   "cell_type": "code",
   "execution_count": 20,
   "id": "7e324c48",
   "metadata": {},
   "outputs": [],
   "source": [
    "# Assuming clique_length_nodes contains the cliques by length, and routes_list contains routes\n",
    "clique_routes = {}\n",
    "\n",
    "# Iterate through each route in routes_list\n",
    "for route in routes_list:\n",
    "    source_airport, destination_airport = route\n",
    "\n",
    "    # Initialize variable to store the maximum clique length where both airports belong\n",
    "    max_clique_length = -1\n",
    "\n",
    "    # Check which clique length both airports belong to\n",
    "    for clique_length, nodes in clique_nodes.items():\n",
    "        if source_airport in nodes and destination_airport in nodes:\n",
    "            max_clique_length = max(max_clique_length, clique_length)\n",
    "\n",
    "    # If both airports are found in a clique, add the route to the corresponding clique length\n",
    "    if max_clique_length != -1:\n",
    "        if max_clique_length not in clique_routes:\n",
    "            clique_routes[max_clique_length] = []\n",
    "        clique_routes[max_clique_length].append(route)\n",
    "\n",
    "clique_routes = dict(sorted(clique_routes.items()))\n",
    "# clique_routes"
   ]
  },
  {
   "cell_type": "markdown",
   "id": "406e9221",
   "metadata": {},
   "source": [
    "### Draw Cliques"
   ]
  },
  {
   "cell_type": "code",
   "execution_count": 37,
   "id": "a7742d10",
   "metadata": {},
   "outputs": [
    {
     "data": {
      "text/plain": [
       "'C:\\\\Users\\\\laoth\\\\Desktop\\\\study\\\\web\\\\echarts\\\\RouteBased\\\\cliques.html'"
      ]
     },
     "execution_count": 37,
     "metadata": {},
     "output_type": "execute_result"
    }
   ],
   "source": [
    "# Initialize the Geo object\n",
    "c = Geo(init_opts=opts.InitOpts(width=\"1800px\", height=\"1000px\")) # Full the screen\n",
    "c.add_schema(maptype=\"world\")\n",
    "\n",
    "L_n = len(clique_nodes.keys())\n",
    "L_e = len(clique_routes.keys())\n",
    "\n",
    "# Add airport scatter points\n",
    "for i, key in enumerate(clique_nodes.keys()):\n",
    "    rate = i/L_n\n",
    "    color = f\"rgb({255 - 250*rate},0, 0)\"\n",
    "    c.add(\n",
    "        f\"Airports {key}-clique\",\n",
    "        data_pair=clique_nodes_count[key],\n",
    "        type_=ChartType.EFFECT_SCATTER,\n",
    "        color=color,\n",
    "        symbol_size=3,\n",
    "    )\n",
    "\n",
    "for i, key in enumerate(clique_routes.keys()):\n",
    "    # Add airline routes for different ranges\n",
    "    rate = i/L_e\n",
    "    color = f\"rgb({255 - 250*rate},160, {250*rate})\"\n",
    "    c.add(\n",
    "        f\"Routes {key}-clique\",\n",
    "        data_pair=clique_routes[key],  # Replace with your route filtering function\n",
    "        type_=ChartType.LINES,\n",
    "        symbol_size=0,\n",
    "        effect_opts=opts.EffectOpts(\n",
    "            symbol=SymbolType.ARROW, symbol_size=3, color=color,  # Dynamic RGB color\n",
    "        ),\n",
    "        linestyle_opts=opts.LineStyleOpts(\n",
    "            width=0.1, curve=0.4, opacity=0.4 + 0.6*rate, type_=\"solid\",color=color,  # Dynamic RGB color\n",
    "        ),\n",
    "    )\n",
    "\n",
    "c.set_series_opts(label_opts=opts.LabelOpts(is_show=False))\n",
    "c.set_global_opts(title_opts=opts.TitleOpts(title=\"Aiport and Routes (Cliques)\",pos_left = 'center'),\n",
    "                  legend_opts = opts.LegendOpts(type_ = 'scroll',orient = 'vertical',pos_left = 'left'))\n",
    "c.render('echarts\\\\RouteBased\\\\cliques.html') # save as .html\n",
    "# c.render_notebook() # if you want to display the graph in notebook, add this line, and set (width=\"900px\", height=\"500px\")"
   ]
  },
  {
   "cell_type": "markdown",
   "id": "3334b5bb",
   "metadata": {},
   "source": [
    "## K-cores"
   ]
  },
  {
   "cell_type": "code",
   "execution_count": 22,
   "id": "fc8f08aa",
   "metadata": {},
   "outputs": [],
   "source": [
    "def k_cores(G):\n",
    "    k = 1\n",
    "    k_cores_nodes = {}\n",
    "    k_cores_edges = {}\n",
    "    while True:\n",
    "        # Compute k-core for the current value of k\n",
    "        k_core = nx.k_core(G, k=k)\n",
    "        \n",
    "        # If no nodes are left, stop\n",
    "        if not k_core.nodes:\n",
    "            k -= 1\n",
    "            break\n",
    "        \n",
    "        # Store nodes and edges of the current k-core\n",
    "        k_cores_nodes[k] = list(k_core.nodes)\n",
    "        k_cores_edges[k] = list(k_core.edges)\n",
    "        \n",
    "        #-------This section is to reduce the size of the image, but will be little different from the result of kcore\n",
    "        # Subtract previous k-cores' nodes and edges\n",
    "        if k > 1:\n",
    "            k_cores_nodes[k-1] = list(set(k_cores_nodes[k-1]) - set(k_cores_nodes[k]))\n",
    "            k_cores_edges[k-1] = list(set(k_cores_edges[k-1]) - set(k_cores_edges[k]))\n",
    "\n",
    "\n",
    "        k += 1  # Increment k for the next iteration\n",
    "\n",
    "    return k, k_cores_nodes, k_cores_edges"
   ]
  },
  {
   "cell_type": "markdown",
   "id": "41a096c2",
   "metadata": {},
   "source": [
    "###  K-cores data"
   ]
  },
  {
   "cell_type": "code",
   "execution_count": 23,
   "id": "173f4a19",
   "metadata": {},
   "outputs": [
    {
     "name": "stdout",
     "output_type": "stream",
     "text": [
      "Max-k: 9\n"
     ]
    }
   ],
   "source": [
    "k, k_nodes, k_edges = k_cores(Community)\n",
    "print('Max-k:',k)\n",
    "# print(\"K-Cores (Nodes):\", k_nodes)\n",
    "# print(\"K-Cores (Edges):\", k_edges)"
   ]
  },
  {
   "cell_type": "code",
   "execution_count": 24,
   "id": "403367d4",
   "metadata": {},
   "outputs": [],
   "source": [
    "k_nodes_count = create_nodes_count(k_nodes,airports_counts_list)"
   ]
  },
  {
   "cell_type": "markdown",
   "id": "4e44d6e9",
   "metadata": {},
   "source": [
    "### Draw K-cores"
   ]
  },
  {
   "cell_type": "code",
   "execution_count": 36,
   "id": "da922a2a",
   "metadata": {},
   "outputs": [
    {
     "data": {
      "text/plain": [
       "'C:\\\\Users\\\\laoth\\\\Desktop\\\\study\\\\web\\\\echarts\\\\RouteBased\\\\k-cores.html'"
      ]
     },
     "execution_count": 36,
     "metadata": {},
     "output_type": "execute_result"
    }
   ],
   "source": [
    "# Initialize the Geo object\n",
    "c = Geo(init_opts=opts.InitOpts(width=\"1800px\", height=\"1000px\")) # Full the screen\n",
    "c.add_schema(maptype=\"world\")\n",
    "\n",
    "L_n = len(k_nodes.keys())\n",
    "L_e = len(k_edges.keys())\n",
    "\n",
    "for i, key in enumerate(k_nodes.keys()):\n",
    "    # Add airport scatter points\n",
    "    rate = i/L_n\n",
    "    color = f\"rgb({255 - 250*rate},0, 0)\"\n",
    "    c.add(\n",
    "        f\"Airports {key}-core\",\n",
    "        data_pair=k_nodes_count[key],\n",
    "        type_=ChartType.EFFECT_SCATTER,\n",
    "        color=color,\n",
    "        symbol_size=3,\n",
    "    )\n",
    "\n",
    "for i, key in enumerate(k_edges.keys()):\n",
    "    # Add airline routes for different ranges\n",
    "    rate = i/L_e\n",
    "    color = f\"rgb({255 - 250*rate},160, {250*rate})\"\n",
    "    c.add(\n",
    "        f\"Routes {key}-core\",\n",
    "        data_pair=k_edges[key],  # Replace with your route filtering function\n",
    "        type_=ChartType.LINES,\n",
    "        symbol_size=0,\n",
    "        effect_opts=opts.EffectOpts(\n",
    "            symbol=SymbolType.ARROW, symbol_size=3, color=color,  # Dynamic RGB color\n",
    "        ),\n",
    "        linestyle_opts=opts.LineStyleOpts(\n",
    "            width=0.1, curve=0.4, opacity=0.4 + 0.6*rate, type_=\"solid\",color=color,  # Dynamic RGB color\n",
    "        ),\n",
    "    )\n",
    "\n",
    "c.set_series_opts(label_opts=opts.LabelOpts(is_show=False))\n",
    "c.set_global_opts(title_opts=opts.TitleOpts(title=\"Aiport and Routes (K-cores)\",pos_left = 'center'),\n",
    "                  legend_opts = opts.LegendOpts(type_ = 'scroll',orient = 'vertical',pos_left = 'left'))\n",
    "c.render('echarts\\\\RouteBased\\\\k-cores.html') # save as .html\n",
    "# c.render_notebook() # if you want to display the graph in notebook, add this line, and set (width=\"900px\", height=\"500px\")"
   ]
  },
  {
   "cell_type": "markdown",
   "id": "d2b0eace",
   "metadata": {},
   "source": [
    "## SNN - Shared Near Neighbor"
   ]
  },
  {
   "cell_type": "code",
   "execution_count": 26,
   "id": "e0f48d78",
   "metadata": {},
   "outputs": [],
   "source": [
    "import pandas as pd\n",
    "import numpy as np\n",
    "import networkx as nx\n",
    "from typing import Dict, Tuple\n",
    "from itertools import combinations\n",
    "\n",
    "class SSN:\n",
    "    def __init__(self, snn_routes: Dict[Tuple[str, str], int], method = 'mixed'):\n",
    "        '''\n",
    "        Initialize Jarvis-Patrick clustering.\n",
    "        Parameters:\n",
    "        - snn_routes: A dictionary of route counts with keys as (source, destination)\n",
    "        - method: How similarity is calculated ('source', 'destination', or 'mixed').\n",
    "            'source': similarity calculate by route counts from source airports - only forth\n",
    "            'destination': similarity calculate by route counts to destination airports - only back\n",
    "            'mixed': similarity calculate by aggregate route counts - both back and forth\n",
    "        '''\n",
    "        if method not in ('source', 'destination', 'mixed'):\n",
    "            raise ValueError(\"Invalid method. Choose from 'source', 'destination', 'mixed'.\")\n",
    "        self.method = method\n",
    "        self.snn_routes = snn_routes.copy()\n",
    "        self.similarity_df = None\n",
    "        \n",
    "    def similarity_matrix_calu(self):\n",
    "        \"\"\"Calculate the similarity matrix based on the chosen method.\"\"\"\n",
    "        # Extract unique airports\n",
    "        snn_airports = list(set([airport for route in self.snn_routes.keys() for airport in route]))\n",
    "        airport_index = {airport: idx for idx, airport in enumerate(snn_airports)}\n",
    "        \n",
    "        # Initialize similarity matrix\n",
    "        similarity_matrix = np.zeros((len(snn_airports), len(snn_airports)), dtype=int)\n",
    "\n",
    "        # Fill similarity matrix\n",
    "        for (source, destination), count in self.snn_routes.items():\n",
    "            i, j = airport_index[source], airport_index[destination]\n",
    "            if self.method == 'source':\n",
    "                similarity_matrix[i, j] = count\n",
    "            elif self.method == 'destination':\n",
    "                similarity_matrix[j, i] = count\n",
    "            elif self.method == 'mixed':\n",
    "                similarity_matrix[i, j] += count\n",
    "                similarity_matrix[j, i] += count\n",
    "\n",
    "        # Convert to DataFrame\n",
    "        self.similarity_df = pd.DataFrame(similarity_matrix, index=snn_airports, columns=snn_airports)\n",
    "\n",
    "    def non_zero_similarity(self):\n",
    "        \"\"\"Generate descriptive statistics for non-zero similarities.\"\"\"\n",
    "        if self.similarity_df is None:\n",
    "            self.similarity_matrix_calu()\n",
    "        non_zero_counts = (self.similarity_df != 0).sum()\n",
    "        return non_zero_counts\n",
    "            \n",
    "            \n",
    "    def jp_cluster_calu(self,k=3, T1=2, T2=1):\n",
    "        \"\"\"\n",
    "        Perform Jarvis-Patrick clustering based on SNN similarity.\n",
    "\n",
    "        Parameters:\n",
    "        - k: Number of nearest neighbors to consider.\n",
    "        - T1: Minimum shared neighbors for clustering.\n",
    "        - T2: Minimum similarity score for clustering.\n",
    "\n",
    "        Returns:\n",
    "        - clusters: A dictionary with cluster indices and members.\n",
    "        \"\"\"\n",
    "        if self.similarity_df is None:\n",
    "            self.similarity_matrix_calu()\n",
    "\n",
    "        # Find k-nearest neighbors for each airport\n",
    "        neighbors = {\n",
    "            airport: self.similarity_df.loc[airport]\n",
    "            .nlargest(k + 1)  # Include self\n",
    "            .iloc[1:]         # Exclude self\n",
    "            .index.tolist()\n",
    "            for airport in self.similarity_df.index\n",
    "        }\n",
    "        self.neighbors = neighbors \n",
    "        \n",
    "        # Build graph based on shared neighbors and similarity thresholds\n",
    "        G = nx.Graph()\n",
    "        for airport, neighbor_list in neighbors.items():\n",
    "            for neighbor in neighbor_list:\n",
    "                shared_neighbors = len(set(neighbors[airport]) & set(neighbors[neighbor]))\n",
    "                if shared_neighbors >= T1 and self.similarity_df.loc[airport, neighbor] >= T2:\n",
    "                    G.add_edge(airport, neighbor)\n",
    "\n",
    "        # Find connected components (clusters)\n",
    "        self.clusters = {i: list(c) for i, c in enumerate(nx.connected_components(G))}\n",
    "        return self.clusters\n",
    "    \n",
    "    def create_snn_nodes_count(self,airports_counts_list):\n",
    "        '''create nodes data for pyechart'''\n",
    "        try: \n",
    "            self.clusters\n",
    "        except:\n",
    "            raise ValueError(\"Run .jp_cluster_calu() first.\")\n",
    "            \n",
    "        snn_nodes = [airport for cluster in self.clusters.values() for airport in cluster]\n",
    "        snn_nodes_count = [\n",
    "            (airport,count)\n",
    "            for airport,count in airports_counts_list\n",
    "            if airport in snn_nodes\n",
    "        ]\n",
    "        return snn_nodes_count\n",
    "    \n",
    "    def create_snn_edges(self):\n",
    "        '''create edges data for pyechart'''\n",
    "        try:\n",
    "            self.clusters\n",
    "        except:\n",
    "            raise ValueError(\"Run .jp_cluster_calu() first.\")\n",
    "\n",
    "        snn_edges = [\n",
    "            route\n",
    "            for cluster in self.clusters.values()\n",
    "            for route in (combinations(cluster, 2))\n",
    "        ]\n",
    "        return snn_edges"
   ]
  },
  {
   "cell_type": "code",
   "execution_count": 27,
   "id": "037d985d",
   "metadata": {},
   "outputs": [
    {
     "name": "stdout",
     "output_type": "stream",
     "text": [
      "count    385.000000\n",
      "mean       4.425974\n",
      "std        6.940998\n",
      "min        1.000000\n",
      "25%        1.000000\n",
      "50%        2.000000\n",
      "75%        5.000000\n",
      "max       79.000000\n",
      "dtype: float64\n"
     ]
    }
   ],
   "source": [
    "'''test'''\n",
    "snn = SSN(snn_routes = routes_dict, method = 'mixed')\n",
    "JP_clusters = snn.jp_cluster_calu(k=5, T1=2, T2=5)\n",
    "print(snn.non_zero_similarity().describe())\n",
    "# print(\"JP_clusters:\",JP_clusters)\n",
    "# print(snn.create_snn_nodes_count(airports_counts_list))\n",
    "# print(snn.create_snn_edges())"
   ]
  },
  {
   "cell_type": "markdown",
   "id": "3c4268ba",
   "metadata": {},
   "source": [
    "### SNN data"
   ]
  },
  {
   "cell_type": "code",
   "execution_count": 28,
   "id": "bf56be93",
   "metadata": {},
   "outputs": [],
   "source": [
    "snn_s = SSN(snn_routes = routes_dict, method = 'source')\n",
    "snn_s_clts = snn_s.jp_cluster_calu(k=5, T1=2, T2=1)\n",
    "snn_s_ngbs = snn_s.neighbors\n",
    "\n",
    "snn_d = SSN(snn_routes = routes_dict, method = 'destination')\n",
    "snn_d_clts = snn_d.jp_cluster_calu(k=5, T1=2, T2=1)\n",
    "snn_d_ngbs = snn_d.neighbors\n",
    "\n",
    "snn_m = SSN(snn_routes = routes_dict, method = 'mixed')\n",
    "snn_m_clts = snn_m.jp_cluster_calu(k=5, T1=2, T2=1)\n",
    "snn_m_ngbs = snn_m.neighbors\n",
    "\n",
    "snn_nodes_count = {\n",
    "    'source':snn_s.create_snn_nodes_count(airports_counts_list),\n",
    "    'destination':snn_d.create_snn_nodes_count(airports_counts_list),\n",
    "    'mixed':snn_m.create_snn_nodes_count(airports_counts_list)\n",
    "}\n",
    "snn_edges = {\n",
    "    'source':snn_s.create_snn_edges(),\n",
    "    'destination':snn_d.create_snn_edges(),\n",
    "    'mixed':snn_m.create_snn_edges()\n",
    "}"
   ]
  },
  {
   "cell_type": "markdown",
   "id": "86826b95",
   "metadata": {},
   "source": [
    "###  Draw SNN"
   ]
  },
  {
   "cell_type": "code",
   "execution_count": 39,
   "id": "5144fe69",
   "metadata": {},
   "outputs": [
    {
     "data": {
      "text/plain": [
       "'C:\\\\Users\\\\laoth\\\\Desktop\\\\study\\\\web\\\\echarts\\\\RouteBased\\\\snn.html'"
      ]
     },
     "execution_count": 39,
     "metadata": {},
     "output_type": "execute_result"
    }
   ],
   "source": [
    "# Initialize the Geo object\n",
    "c = Geo(init_opts=opts.InitOpts(width=\"1800px\", height=\"1000px\")) # Full the screen\n",
    "c.add_schema(maptype=\"world\")\n",
    "\n",
    "L_n = len(snn_nodes_count.keys())\n",
    "L_e = len(snn_edges.keys())\n",
    "\n",
    "for i, key in enumerate(snn_nodes_count.keys()):\n",
    "    # Add airport scatter points\n",
    "    rate = i/L_n\n",
    "    color = f\"rgb({255 - 250*rate},0, 0)\"\n",
    "    c.add(\n",
    "        f\"Airports SNN-{key}\",\n",
    "        data_pair=snn_nodes_count[key],\n",
    "        type_=ChartType.EFFECT_SCATTER,\n",
    "        color=color,\n",
    "        symbol_size=3,\n",
    "    )\n",
    "    \n",
    "for i, key in enumerate(snn_edges.keys()):\n",
    "    # Add airline routes for different ranges\n",
    "    rate = i/L_e\n",
    "    color = f\"rgb({255 - 250*rate},160, {250*rate})\"\n",
    "    c.add(\n",
    "        f\"Routes SNN-{key}\",\n",
    "        data_pair=snn_edges[key],  # Replace with your route filtering function\n",
    "        type_=ChartType.LINES,\n",
    "        symbol_size=0,\n",
    "        effect_opts=opts.EffectOpts(\n",
    "            symbol=SymbolType.ARROW, symbol_size=0, color=color,  # Dynamic RGB color\n",
    "        ),\n",
    "        linestyle_opts=opts.LineStyleOpts(\n",
    "            width=0.2, curve=0, opacity=1, type_=\"solid\",color=color,  # Dynamic RGB color\n",
    "        ),\n",
    "    )\n",
    "\n",
    "c.set_series_opts(label_opts=opts.LabelOpts(is_show=False))\n",
    "c.set_global_opts(title_opts=opts.TitleOpts(title=\"Aiport and Routes (K-cores)\",pos_left = 'center'),\n",
    "                  legend_opts = opts.LegendOpts(type_ = 'scroll',orient = 'vertical',pos_left = 'left'))\n",
    "c.render('echarts\\\\RouteBased\\\\snn.html') # save as .html\n",
    "# c.render_notebook() # if you want to display the graph in notebook, add this line, and set (width=\"900px\", height=\"500px\")"
   ]
  },
  {
   "cell_type": "markdown",
   "id": "1f7281c6",
   "metadata": {},
   "source": [
    "## IHCS - Iterated Highly Connected Subgraphs"
   ]
  },
  {
   "cell_type": "code",
   "execution_count": 30,
   "id": "4e823633",
   "metadata": {},
   "outputs": [
    {
     "name": "stdout",
     "output_type": "stream",
     "text": [
      "Clusters: defaultdict(<class 'list'>, {'Subgraph-1': [1, 2, 3], 'Subgraph-2': [4, 5, 6], 'Singletons': [8, 7, 9]})\n"
     ]
    }
   ],
   "source": [
    "import networkx as nx\n",
    "import numpy as np\n",
    "from collections import defaultdict\n",
    "\n",
    "class IHCS:\n",
    "    \"\"\"\n",
    "    Iterated Highly Connected Subgraphs (IHCS) clustering algorithm implementation.\n",
    "    Based on: \"Hartuv, E., & Shamir, R. (2000). A clustering algorithm based on graph connectivity\"\n",
    "    \n",
    "    The Iterated HCS version repeatedly applies HCS until convergence.\n",
    "    \"\"\"\n",
    "    \n",
    "    def __init__(self, min_cluster_size=3):\n",
    "        \"\"\"\n",
    "        Initialize IHCS clustering algorithm.\n",
    "        \n",
    "        Args:\n",
    "            min_cluster_size (int): Minimum number of nodes in a cluster (default: 3)\n",
    "        \"\"\"\n",
    "        self.min_cluster_size = min_cluster_size\n",
    "        self.labels = {}\n",
    "        self.clusters = {}\n",
    "        \n",
    "    def fit(self, graph):\n",
    "        \"\"\"\n",
    "        Perform IHCS clustering on the input graph.\n",
    "        \n",
    "        Args:\n",
    "            graph (nx.Graph): Input graph to be clustered\n",
    "            \n",
    "        Returns:\n",
    "            dict: Cluster labels for each node\n",
    "        \"\"\"\n",
    "        self.graph = graph.copy()\n",
    "        \n",
    "        if self.graph is None or len(self.graph) == 0:\n",
    "            raise ValueError(\"No graph provided for clustering\")\n",
    "        \n",
    "        # Initial clustering\n",
    "        clustered_graph = self._ihcs_recursive(self.graph)\n",
    "        \n",
    "        # Assign labels and group clusters\n",
    "        self._assign_cluster_labels(clustered_graph)\n",
    "        self._group_clusters()\n",
    "        \n",
    "        return self.labels\n",
    "    \n",
    "    def _is_highly_connected(self, graph):\n",
    "        \"\"\"\n",
    "        Check if a graph is highly connected using edge connectivity.\n",
    "        A graph is highly connected if its edge connectivity is greater than |V|/2.\n",
    "        \"\"\"\n",
    "        n = len(graph)\n",
    "        if n <= 1:\n",
    "            return True\n",
    "        \n",
    "        try:\n",
    "            edge_connectivity = nx.edge_connectivity(graph)\n",
    "            return edge_connectivity > n/2\n",
    "        except nx.NetworkXError:\n",
    "            return False\n",
    "            \n",
    "    def _get_minimum_cut(self, graph):\n",
    "        \"\"\"Get the minimum cut of a graph\"\"\"\n",
    "        try:\n",
    "            return nx.minimum_edge_cut(graph)\n",
    "        except nx.NetworkXError:\n",
    "            return set()\n",
    "    \n",
    "    def _remove_edges(self, graph, edges):\n",
    "        \"\"\"Remove edges from graph\"\"\"\n",
    "        graph_copy = graph.copy()\n",
    "        graph_copy.remove_edges_from(edges)\n",
    "        return graph_copy\n",
    "    \n",
    "    def _ihcs_recursive(self, graph):\n",
    "        \"\"\"\n",
    "        Recursive implementation of the Iterated HCS algorithm.\n",
    "        \n",
    "        Args:\n",
    "            graph (nx.Graph): Input graph to be processed\n",
    "            \n",
    "        Returns:\n",
    "            nx.Graph: Processed graph with final clustering\n",
    "        \"\"\"\n",
    "        # Base cases\n",
    "        if len(graph) < self.min_cluster_size:\n",
    "            return graph\n",
    "            \n",
    "        if not nx.is_connected(graph):\n",
    "            # Process each component separately\n",
    "            components = [graph.subgraph(c).copy() for c in nx.connected_components(graph)]\n",
    "            result = nx.Graph()\n",
    "            for component in components:\n",
    "                if len(component) >= self.min_cluster_size:\n",
    "                    result = nx.compose(result, self._ihcs_recursive(component))\n",
    "                else:\n",
    "                    result = nx.compose(result, component)\n",
    "            return result\n",
    "        \n",
    "        # Check if current graph is highly connected\n",
    "        if self._is_highly_connected(graph):\n",
    "            return graph\n",
    "            \n",
    "        # If not highly connected, find minimum cut and split\n",
    "        min_cut = self._get_minimum_cut(graph)\n",
    "        if not min_cut:\n",
    "            return graph\n",
    "            \n",
    "        # Split graph and recursively process subgraphs\n",
    "        split_graph = self._remove_edges(graph, min_cut)\n",
    "        subgraphs = [split_graph.subgraph(c).copy() for c in nx.connected_components(split_graph)]\n",
    "        \n",
    "        # Process each subgraph\n",
    "        result = nx.Graph()\n",
    "        for subgraph in subgraphs:\n",
    "            if len(subgraph) >= self.min_cluster_size:\n",
    "                processed_subgraph = self._ihcs_recursive(subgraph)\n",
    "                result = nx.compose(result, processed_subgraph)\n",
    "            else:\n",
    "                result = nx.compose(result, subgraph)\n",
    "                \n",
    "        return result\n",
    "    \n",
    "    def _assign_cluster_labels(self, graph):\n",
    "        \"\"\"Assign cluster labels to nodes based on connected components\"\"\"\n",
    "        self.labels = {}\n",
    "        for cluster_idx, component in enumerate(nx.connected_components(graph), 1):\n",
    "            if len(component) >= self.min_cluster_size:\n",
    "                for node in component:\n",
    "                    self.labels[node] = cluster_idx\n",
    "            else:\n",
    "                # Assign small components to cluster 0 (outliers)\n",
    "                for node in component:\n",
    "                    self.labels[node] = 0\n",
    "    \n",
    "    def _group_clusters(self):\n",
    "        \"\"\"\n",
    "        Group nodes by their cluster labels.\n",
    "        \n",
    "        Returns:\n",
    "            dict: Dictionary where keys are cluster labels and values are lists of nodes\n",
    "        \"\"\"\n",
    "        self.clusters = defaultdict(list)\n",
    "        for node, label in self.labels.items():\n",
    "            if label == 0:\n",
    "                self.clusters['Singletons'].append(node)\n",
    "            else: \n",
    "                self.clusters[f'Subgraph-{label}'].append(node)\n",
    "        return self.clusters"
   ]
  },
  {
   "cell_type": "markdown",
   "id": "cc329508",
   "metadata": {},
   "source": [
    "### IHCS data"
   ]
  },
  {
   "cell_type": "code",
   "execution_count": 31,
   "id": "0f6d82b5",
   "metadata": {},
   "outputs": [
    {
     "name": "stdout",
     "output_type": "stream",
     "text": [
      "Clusters: defaultdict(<class 'list'>, {'Singletons': ['ORD', 'BKK', 'HKG', 'NKG', 'TAO', 'KWL', 'CGO', 'HAK', 'DLC', 'TNA', 'HRB', 'SYX', 'NRT', 'ICN', 'TPE', 'SIN', 'SFO', 'LAX', 'JFK', 'LHR', 'ATL', 'SEA', 'YYZ', 'MSP', 'DFW', 'DEN', 'MSY', 'SHE', 'FOC', 'NNG', 'PHX', 'YUL', 'CDG', 'MEX', 'MIA', 'KIX', 'LJG', 'URC', 'XNN', 'CGQ', 'YVR', 'BOM', 'DEL', 'MAA', 'HYD', 'BLR', 'FCO', 'LGA', 'DTW', 'FRA', 'MAD', 'LIS', 'BRU', 'BCN', 'BOS', 'HNL', 'OPO', 'MNL', 'LAS', 'CUN', 'MXP', 'VIE', 'AUH', 'AMS', 'SYD', 'MAN', 'MUC', 'LGW', 'AGP', 'PMI', 'MCO', 'EWR', 'MEL', 'BNE', 'ADL', 'DXB', 'PNQ', 'PRG', 'CTA', 'ARN', 'TXL', 'CPH', 'CCU', 'FUE', 'ACE', 'BHX', 'TFS', 'DUS', 'HKT', 'KUL', 'AKL', 'PUS', 'WNZ', 'AYT', 'CGN', 'MTY', 'GDL', 'LPA', 'IAD', 'LCA', 'ATH', 'SLC', 'COK', 'PER', 'DPS', 'CGK', 'NGB', 'EMA', 'BAH', 'DOH', 'SAN', 'LHW', 'IAH', 'HFE', 'PHL', 'INC', 'DAC', 'KBL', 'JOG', 'ORY', 'GVA', 'LKO', 'AMD', 'GAU', 'YYC', 'IXB', 'JED', 'KWI', 'HBE', 'FUK', 'WAW', 'ZRH', 'TFN', 'CNS', 'DUB', 'RDU', 'NGO', 'SJU', 'TYN', 'ALC', 'OGG', 'HAM', 'PFO', 'BRS', 'STL', 'SSH', 'EDI', 'LIM', 'HND', 'CEB', 'IXZ', 'PDX', 'SJD', 'GOI', 'SUB', 'DLM', 'SMF', 'GRU', 'WLG', 'JHG', 'MCT', 'YNT', 'SCL', 'EZE', 'GIG', 'HEL', 'TPA', 'FLL', 'LXA', 'SJW', 'ABQ', 'BNA', 'KHN', 'AUS', 'HER', 'BOG', 'CLO', 'CMB', 'HLD', 'HET', 'TUS', 'STT', 'VNS', 'PAT', 'KTM', 'IXR', 'IDR', 'VQS', 'ADD', 'SXR', 'IXJ', 'DRW', 'XNA', 'ALG', 'DME', 'FRU', 'LHE', 'CEI', 'GSP', 'TLS', 'TYS', 'HRG', 'BEG', 'BWI', 'SJC', 'IXE', 'PSP', 'BDL', 'MDE', 'STR', 'HOU', 'MFM', 'PKU', 'MCI', 'ORF', 'OKC', 'KBV', 'AUA', 'PMV', 'CCS', 'MAR', 'CAK', 'ABZ', 'ELP', 'MDW', 'MVD', 'TIA', 'VRN', 'LIH', 'SGN', 'BKI', 'FLR', 'RAK', 'KOA', 'PNH', 'GMP', 'CJU', 'DCA', 'DLA', 'NSI', 'NAG', 'MRS', 'CUZ', 'LGK', 'JAX', 'CLT', 'VLC', 'BDO', 'RNO', 'EBB', 'DAY', 'CMN', 'ZUH', 'PNS', 'CNX', 'SAT', 'TSA', 'DMM', 'MLE', 'HSV', 'KHH', 'OTP', 'GSO', 'GLA', 'OSL', 'JNB', 'CPT', 'WDH', 'LYS', 'CLE', 'PTY', 'SRQ', 'DBV', 'PPT', 'SVQ', 'SDF', 'PEN', 'JAI', 'SKG', 'JZH', 'DAR', 'JRO', 'PVR', 'RIC', 'OSS', 'JAN', 'BPN', 'CJB', 'TRV', 'CTS', 'PPS', 'FIH', 'TIV', 'PBI', 'KHG', 'MEM', 'CMH', 'CZM', 'YEG', 'IXA', 'IBZ', 'MKE', 'CVG', 'SDJ', 'OKA', 'BHM', 'PIT', 'IND', 'ALB', 'RUH', 'RGN', 'LED', 'ISB', 'KLO', 'RSW', 'AQP', 'CKY', 'DKR', 'BKO', 'GUA', 'SSG', 'CHS', 'CHA', 'YZF', 'VVO', 'FAO', 'SAV', 'HTN', 'CHC', 'LLW', 'LUN', 'HRE', 'COO', 'OUA', 'NIM', 'ABJ', 'LFW', 'LOS', 'ACC', 'UIO', 'GYE', 'FNA', 'ROB', 'YWK', 'YZV', 'VVI', 'LPB', 'MAO', 'STM', 'BEL', 'PTP', 'FDF', 'SLU', 'TIP', 'TUN', 'IST', 'IKA', 'CWB', 'POA', 'TSE', 'ALA', 'OVB', 'SVX', 'DZA', 'HAH', 'DOM', 'SXM'], 'Subgraph-4': ['SHA', 'KWE', 'XIY', 'WUH', 'PEK', 'CKG', 'TSN', 'CSX', 'XMN', 'PVG', 'KMG', 'CAN', 'CTU', 'HGH', 'SZX'], 'Subgraph-248': ['BJM', 'KGL', 'NBO']})\n"
     ]
    }
   ],
   "source": [
    "# Create IHCS object with minimum cluster size\n",
    "ihcs = IHCS(min_cluster_size=3)\n",
    "ihcs.fit(Community)\n",
    "\n",
    "# Get clustering results\n",
    "ihcs_nodes = ihcs.clusters\n",
    "print(\"Clusters:\", ihcs_nodes)"
   ]
  },
  {
   "cell_type": "code",
   "execution_count": 32,
   "id": "3755d878",
   "metadata": {},
   "outputs": [],
   "source": [
    "ihcs_nodes_count = create_nodes_count(ihcs_nodes,airports_counts_list)"
   ]
  },
  {
   "cell_type": "code",
   "execution_count": 33,
   "id": "d243a849",
   "metadata": {},
   "outputs": [
    {
     "name": "stdout",
     "output_type": "stream",
     "text": [
      "defaultdict(<class 'list'>, {'Singletons': [('LHR', 'YUL'), ('HAK', 'NKG'), ('SJC', 'LAX'), ('XIY', 'DLC'), ('DFW', 'ATL'), ('PHX', 'MSP'), ('CDG', 'IAD'), ('SHE', 'XIY'), ('VVO', 'ICN'), ('CGK', 'PKU'), ('TPE', 'NRT'), ('FOC', 'XIY'), ('FLR', 'VIE'), ('AGP', 'MUC'), ('SEA', 'PHX'), ('SFO', 'SEA'), ('ORD', 'MAN'), ('MIA', 'MSY'), ('URC', 'CTU'), ('DFW', 'SFO'), ('HAK', 'CGO'), ('LHW', 'PEK'), ('BNE', 'AKL'), ('SYD', 'CHC'), ('NNG', 'XMN'), ('NKG', 'HAK'), ('BNE', 'SIN'), ('TIA', 'MXP'), ('VIE', 'CPH'), ('PPS', 'MNL'), ('BDO', 'SIN'), ('AKL', 'BNE'), ('PVG', 'KIX'), ('LAX', 'YVR'), ('CCU', 'IXZ'), ('YYZ', 'ORD'), ('PHX', 'ATL'), ('XIY', 'HRB'), ('TAO', 'SHA'), ('DFW', 'FRA'), ('LCA', 'LGW'), ('BCN', 'JFK'), ('ICN', 'NGO'), ('LGW', 'DBV'), ('KWL', 'PVG'), ('ICN', 'HKG'), ('SHA', 'TSA'), ('LIS', 'AMS'), ('MRS', 'CDG'), ('DZA', 'HAH'), ('PEK', 'HAK'), ('TAO', 'DLC'), ('LAX', 'TUS'), ('IXJ', 'DEL'), ('CDG', 'YUL'), ('CAN', 'TNA'), ('BLR', 'MAA'), ('PAT', 'DEL'), ('KMG', 'JHG'), ('TAO', 'CGO'), ('NKG', 'KMG'), ('TNA', 'DLC'), ('LHR', 'RDU'), ('CKG', 'URC'), ('AMS', 'CPH'), ('YUL', 'LGA'), ('OKA', 'NRT'), ('ORD', 'FCO'), ('SAN', 'LAX'), ('ATL', 'MSY'), ('VIE', 'DME'), ('HKG', 'DPS'), ('CTA', 'STR'), ('HLD', 'PEK'), ('LGW', 'CTA'), ('LHR', 'YYC'), ('MAD', 'JFK'), ('ICN', 'KIX'), ('ATL', 'GDL'), ('SIN', 'LGK'), ('MAN', 'LCA'), ('MAD', 'FRA'), ('LAX', 'DFW'), ('ATL', 'PDX'), ('XIY', 'SHE'), ('TAO', 'HRB'), ('SIN', 'TPE'), ('SIN', 'DPS'), ('ATL', 'FCO'), ('VNS', 'DEL'), ('OKC', 'ATL'), ('PHL', 'LHR'), ('ICN', 'TNA'), ('MIA', 'ATL'), ('CTS', 'SDJ'), ('JFK', 'BRU'), ('JAX', 'ATL'), ('PVG', 'MFM'), ('CGQ', 'TNA'), ('SJD', 'LAX'), ('CNX', 'BKK'), ('BAH', 'AUH'), ('ATL', 'DEN'), ('PVG', 'SYX'), ('DME', 'LED'), ('HGH', 'HKG'), ('TXL', 'CPH'), ('GOI', 'BOM'), ('XIY', 'LHW'), ('PVG', 'LAX'), ('OPO', 'BRU'), ('CTA', 'FCO'), ('VIE', 'BCN'), ('DEL', 'MAA'), ('SFO', 'TPE'), ('MSP', 'DFW'), ('ATL', 'MSP'), ('IAH', 'LAX'), ('NAG', 'BOM'), ('ATL', 'MTY'), ('ATL', 'PHL'), ('JFK', 'LAX'), ('FRA', 'DFW'), ('LIS', 'MAD'), ('MAD', 'GRU'), ('TAO', 'SHE'), ('BKK', 'KBV'), ('EMA', 'ACE'), ('BNE', 'DRW'), ('BNA', 'LAX'), ('NRT', 'SIN'), ('TSN', 'HET'), ('NRT', 'DLC'), ('CLO', 'BOG'), ('BCN', 'WAW'), ('KWE', 'CGO'), ('WAW', 'LHR'), ('HER', 'MUC'), ('CGO', 'KWE'), ('TPE', 'HKG'), ('AMS', 'BCN'), ('LCA', 'MAN'), ('CEB', 'ICN'), ('LPB', 'VVI'), ('FLL', 'ATL'), ('SIN', 'BKK'), ('ICN', 'LAX'), ('ABJ', 'OUA'), ('DUS', 'AYT'), ('DEN', 'LAX'), ('ZUH', 'PVG'), ('ATL', 'SAT'), ('FRA', 'MAD'), ('BKK', 'SIN'), ('CKG', 'HKG'), ('GMP', 'CJU'), ('JFK', 'DUB'), ('LGW', 'HRG'), ('ATL', 'SFO'), ('CHC', 'SYD'), ('STR', 'CTA'), ('GRU', 'JFK'), ('CVG', 'ATL'), ('TFS', 'EMA'), ('RNO', 'LAX'), ('NKG', 'CKG'), ('ATL', 'FLL'), ('CGO', 'TAO'), ('NBO', 'DAR'), ('GSP', 'ATL'), ('ABQ', 'LAX'), ('BEL', 'STM'), ('LIM', 'LAX'), ('MSY', 'ORD'), ('NKG', 'CSX'), ('MAA', 'IXZ'), ('NRT', 'KHH'), ('HKG', 'PVG'), ('BRS', 'TFS'), ('TAO', 'CTU'), ('MXP', 'MIA'), ('KWL', 'PEK'), ('SHE', 'PVG'), ('TPE', 'KIX'), ('ATL', 'FRA'), ('SIN', 'PEN'), ('ROB', 'FNA'), ('TNA', 'CTU'), ('MIA', 'GUA'), ('TFN', 'MAD'), ('YVR', 'ORD'), ('ACE', 'EMA'), ('KIX', 'HKG'), ('AYT', 'CGN'), ('PBI', 'ATL'), ('SHE', 'TAO'), ('GVA', 'LIS'), ('FRA', 'DTW'), ('SYD', 'MEL'), ('ATL', 'SAN'), ('ALB', 'ATL'), ('DOH', 'FRA'), ('ATL', 'CAK'), ('KWL', 'CKG'), ('LIH', 'LAX'), ('ATL', 'PHX'), ('GVA', 'OPO'), ('MNL', 'TPE'), ('HGH', 'SYX'), ('CKG', 'TNA'), ('BRU', 'BCN'), ('HKT', 'KUL'), ('BHX', 'FUE'), ('PVR', 'SFO'), ('JFK', 'MAD'), ('LHW', 'XIY'), ('SJW', 'SHA'), ('SUB', 'CGK'), ('YYZ', 'FCO'), ('MCT', 'DOH'), ('SIN', 'MEL'), ('CGN', 'TXL'), ('LJG', 'KMG'), ('FRA', 'AUH'), ('CTU', 'JZH'), ('GMP', 'KIX'), ('EDI', 'CDG'), ('OPO', 'MAD'), ('YNT', 'HRB'), ('DEL', 'IXB'), ('SIN', 'KUL'), ('MNL', 'ICN'), ('BRU', 'FCO'), ('MAD', 'BRU'), ('AUH', 'AMS'), ('CSX', 'SYX'), ('HKG', 'HKT'), ('NSI', 'DLA'), ('ATL', 'MIA'), ('CGK', 'BPN'), ('BCN', 'PRG'), ('SYX', 'CKG'), ('LIS', 'ORY'), ('LHR', 'ATH'), ('CLE', 'ATL'), ('XMN', 'NNG'), ('PRG', 'ARN'), ('LGW', 'LCA'), ('SIN', 'HKT'), ('XIY', 'INC'), ('LKO', 'BOM'), ('ICN', 'CEB'), ('FCO', 'CTA'), ('AKL', 'MEL'), ('NGO', 'PVG'), ('RDU', 'ATL'), ('JFK', 'CDG'), ('PHX', 'LAX'), ('CKG', 'SYX'), ('JFK', 'YUL'), ('DEL', 'LKO'), ('LHR', 'IAH'), ('EMA', 'PMI'), ('KMG', 'LJG'), ('KUL', 'BKK'), ('SDJ', 'CTS'), ('PUS', 'TAO'), ('YYZ', 'MCO'), ('CGN', 'PMI'), ('ICN', 'MNL'), ('CGO', 'XNN'), ('MSY', 'DTW'), ('SHA', 'TAO'), ('SFO', 'ORD'), ('LAX', 'NRT'), ('CGQ', 'NKG'), ('MXP', 'VIE'), ('NKG', 'CGQ'), ('CHA', 'ATL'), ('NRT', 'HNL'), ('CGK', 'KUL'), ('YYZ', 'ATL'), ('JED', 'RUH'), ('DME', 'FRU'), ('CDG', 'LYS'), ('SUB', 'SIN'), ('ICN', 'FUK'), ('DMM', 'KWI'), ('DEL', 'IXJ'), ('NKG', 'SZX'), ('ABJ', 'LFW'), ('LAX', 'LHR'), ('BOS', 'ORD'), ('HKG', 'DEL'), ('BKK', 'NRT'), ('TAO', 'ICN'), ('FNA', 'ROB'), ('SEA', 'PEK'), ('DLA', 'NSI'), ('CGO', 'DLC'), ('SYD', 'AKL'), ('XIY', 'WNZ'), ('KBV', 'BKK'), ('SYD', 'SIN'), ('PEK', 'CGQ'), ('AUH', 'MCT'), ('HKG', 'PEK'), ('DEL', 'AMD'), ('XIY', 'NNG'), ('WLG', 'MEL'), ('ATL', 'EWR'), ('HKG', 'SIN'), ('FOC', 'PEK'), ('DFW', 'MAD'), ('DKR', 'BRU'), ('CAN', 'KHN'), ('PEK', 'KWL'), ('WDH', 'JNB'), ('CMH', 'ATL'), ('NRT', 'JFK'), ('MAD', 'DFW'), ('TIV', 'DME'), ('LJG', 'CKG'), ('SAV', 'ATL'), ('PEK', 'SEA'), ('MAN', 'LPA'), ('ORD', 'PVG'), ('AUS', 'ATL'), ('STM', 'MAO'), ('CGO', 'HRB'), ('ADD', 'JED'), ('LGW', 'AYT'), ('CUN', 'MEX'), ('NKG', 'XIY'), ('ATL', 'MEM'), ('BNE', 'SYD'), ('TIA', 'VRN'), ('CGO', 'XMN'), ('CCU', 'BOM'), ('CJB', 'BOM'), ('BLR', 'DEL'), ('DRW', 'BNE'), ('KOA', 'LAX'), ('LJG', 'JHG'), ('SJU', 'ATL'), ('MCI', 'ATL'), ('HGH', 'CGO'), ('TUS', 'ATL'), ('TAO', 'KIX'), ('OPO', 'ORY'), ('IXR', 'DEL'), ('DUS', 'HER'), ('BOM', 'MAA'), ('JOG', 'CGK'), ('ATL', 'LGA'), ('PRG', 'CDG'), ('YUL', 'LHR'), ('NNG', 'KMG'), ('BCN', 'CDG'), ('KUL', 'HKT'), ('CSX', 'NKG'), ('MCT', 'AUH'), ('TPE', 'MNL'), ('MSY', 'DEN'), ('ORF', 'ATL'), ('GSO', 'ATL'), ('TNA', 'FOC'), ('BKK', 'TPE'), ('CAN', 'NRT'), ('AGP', 'MAN'), ('FRA', 'JFK'), ('SJU', 'JFK'), ('BKK', 'DAC'), ('HNL', 'NRT'), ('JFK', 'NRT'), ('CPH', 'VIE'), ('CTS', 'NRT'), ('CKG', 'NKG'), ('ORD', 'DUB'), ('FCO', 'ATH'), ('LAX', 'ICN'), ('HRB', 'CGO'), ('BLR', 'BOM'), ('MCO', 'LAX'), ('NIM', 'OUA'), ('DOH', 'DXB'), ('NKG', 'CAN'), ('DEN', 'SEA'), ('CTU', 'HKG'), ('XNN', 'CGO'), ('MEX', 'LAX'), ('HGH', 'TYN'), ('CEB', 'MNL'), ('YUL', 'JFK'), ('JFK', 'LHR'), ('RAK', 'LGW'), ('EZE', 'GRU'), ('GAU', 'CCU'), ('DLC', 'CGO'), ('CKG', 'CGO'), ('SIN', 'BDO'), ('KWI', 'DMM'), ('NRT', 'HKG'), ('BKK', 'ICN'), ('ATL', 'IND'), ('ATL', 'BDL'), ('MIA', 'MAD'), ('DEL', 'SXR'), ('LAX', 'IAH'), ('ICN', 'NRT'), ('JED', 'ADD'), ('LAS', 'DEN'), ('MTY', 'GDL'), ('JZH', 'CTU'), ('MAN', 'FUE'), ('MSY', 'ATL'), ('XNA', 'ATL'), ('JOG', 'SIN'), ('LXA', 'CKG'), ('ATL', 'RSW'), ('MAN', 'PFO'), ('AMD', 'DEL'), ('CGO', 'CTU'), ('DXB', 'DEL'), ('BOM', 'CJB'), ('BOM', 'GOI'), ('ALG', 'CDG'), ('ATL', 'DFW'), ('DAC', 'CCU'), ('TRV', 'BOM'), ('BKK', 'CNX'), ('ATL', 'CLE'), ('MEL', 'BNE'), ('RIC', 'ATL'), ('CTU', 'TNA'), ('GRU', 'MAD'), ('HGH', 'KWL'), ('HOU', 'ATL'), ('YNT', 'ICN'), ('HKG', 'CTU'), ('LJG', 'HGH'), ('DXB', 'SIN'), ('LAX', 'SYD'), ('PVG', 'TPE'), ('SEA', 'HNL'), ('MSY', 'JFK'), ('DEL', 'GAU'), ('SYD', 'HNL'), ('HEL', 'FRA'), ('SEA', 'LHR'), ('JED', 'KWI'), ('OVB', 'SVX'), ('LPA', 'MAD'), ('LAS', 'ATL'), ('BRU', 'EWR'), ('ORD', 'PEK'), ('KHN', 'SZX'), ('HYD', 'BOM'), ('AMD', 'BOM'), ('TXL', 'VIE'), ('DXB', 'KBL'), ('CGO', 'URC'), ('AYT', 'HAM'), ('LHR', 'BOM'), ('FRU', 'DME'), ('MAA', 'BOM'), ('CDG', 'YYZ'), ('PVG', 'ICN'), ('LGW', 'BCN'), ('ATL', 'SLC'), ('BLR', 'COK'), ('HKG', 'SFO'), ('PVG', 'INC'), ('ATL', 'TPA'), ('HAK', 'CKG'), ('AYT', 'DUS'), ('BNE', 'CNS'), ('FLL', 'TPA'), ('MTY', 'ATL'), ('ATL', 'MCI'), ('ICN', 'TPE'), ('SIN', 'SGN'), ('HET', 'TSN'), ('MAD', 'OPO'), ('IAD', 'ATL'), ('CTU', 'SYX'), ('SEA', 'JFK'), ('MIA', 'BOG'), ('LAS', 'JFK'), ('LHR', 'MAN'), ('MDE', 'MIA'), ('LJG', 'XIY'), ('SIN', 'BNE'), ('XIY', 'NKG'), ('AUH', 'ISB'), ('BOM', 'LKO'), ('TPA', 'FLL'), ('BCN', 'TFN'), ('DFW', 'LHR'), ('LGW', 'LPA'), ('ATL', 'DTW'), ('SVX', 'OVB'), ('BKI', 'HKG'), ('XNN', 'CTU'), ('SFO', 'HNL'), ('LHE', 'AUH'), ('PPT', 'LAX'), ('LAX', 'ABQ'), ('MSY', 'MIA'), ('HGH', 'SJW'), ('NRT', 'LAX'), ('CTA', 'TXL'), ('DEL', 'IDR'), ('PVG', 'BKK'), ('IXB', 'DEL'), ('SXM', 'DOM'), ('SFO', 'ATL'), ('SIN', 'MAA'), ('MXP', 'FCO'), ('WAW', 'BCN'), ('TXL', 'ARN'), ('DLC', 'NRT'), ('LAX', 'OGG'), ('BKK', 'CEI'), ('CTU', 'HFE'), ('BKK', 'KUL'), ('FCO', 'PRG'), ('SIN', 'SUB'), ('PSP', 'SFO'), ('BOM', 'IXE'), ('EBB', 'KGL'), ('BOS', 'ATL'), ('BOS', 'CUN'), ('CEI', 'BKK'), ('URC', 'XIY'), ('ALA', 'TSE'), ('CAN', 'WNZ'), ('MUC', 'AGP'), ('ACE', 'LGW'), ('DCA', 'ATL'), ('XMN', 'KWL'), ('PEK', 'TAO'), ('SMF', 'LAX'), ('JFK', 'LAS'), ('BOM', 'AMD'), ('LGA', 'ORD'), ('MAN', 'SSH'), ('LGW', 'MCO'), ('SFO', 'JFK'), ('AUS', 'LAX'), ('ORD', 'MSY'), ('HER', 'DUS'), ('HNL', 'SYD'), ('MSP', 'LAX'), ('ICN', 'BKK'), ('LIM', 'SCL'), ('COK', 'BLR'), ('YYZ', 'DFW'), ('VIE', 'MXP'), ('LAX', 'MEX'), ('LAX', 'LIH'), ('KHN', 'CAN'), ('PMV', 'CCS'), ('SLU', 'FDF'), ('ORD', 'BOS'), ('TUS', 'LAX'), ('PVG', 'HAK'), ('CCS', 'MAR'), ('MAA', 'COK'), ('ATL', 'JAN'), ('CDG', 'BCN'), ('SYD', 'HKG'), ('MXP', 'TIA'), ('CAN', 'HAK'), ('SHA', 'URC'), ('FRA', 'DOH'), ('DEN', 'LAS'), ('STL', 'ATL'), ('FRA', 'HEL'), ('SIN', 'RGN'), ('SYX', 'PVG'), ('SSG', 'DLA'), ('SLC', 'ATL'), ('ATL', 'BOS'), ('PEK', 'ORD'), ('MSY', 'EWR'), ('NNG', 'SZX'), ('MUC', 'MAD'), ('MIA', 'LHR'), ('CMN', 'CDG'), ('ATL', 'BNA'), ('FIH', 'DLA'), ('LGW', 'FUE'), ('OGG', 'HNL'), ('LGW', 'PFO'), ('CMB', 'MLE'), ('IXZ', 'CCU'), ('TNA', 'HRB'), ('LAX', 'KOA'), ('BEG', 'FRA'), ('DXB', 'LHR'), ('SSH', 'MAN'), ('ORD', 'MSP'), ('MAN', 'TFS'), ('DAY', 'ATL'), ('MAD', 'IBZ'), ('HAK', 'HGH'), ('PVG', 'ORD'), ('SYD', 'WLG'), ('LHR', 'SEA'), ('CGN', 'AYT'), ('XIY', 'KWL'), ('MNL', 'PPS'), ('LGA', 'YYZ'), ('PKU', 'CGK'), ('FUE', 'LGW'), ('MXP', 'JFK'), ('FUK', 'TPE'), ('BDL', 'ATL'), ('HRB', 'TSN'), ('CTU', 'NKG'), ('LLW', 'LUN'), ('HNL', 'HND'), ('TFS', 'MAN'), ('HNL', 'LAX'), ('TPE', 'ICN'), ('ORD', 'LHR'), ('HKT', 'BKK'), ('NRT', 'MNL'), ('DEL', 'IXR'), ('CCU', 'IXB'), ('ORD', 'ATL'), ('CGK', 'DPS'), ('BLR', 'GOI'), ('NNG', 'XIY'), ('DLC', 'TSN'), ('PNS', 'ATL'), ('MIA', 'MDE'), ('PMI', 'EMA'), ('YYC', 'LHR'), ('YYZ', 'DTW'), ('CTU', 'CGO'), ('HYD', 'MAA'), ('BOM', 'DEL'), ('VIE', 'FCO'), ('MSY', 'LAX'), ('TNA', 'SHE'), ('CAN', 'HFE'), ('TAO', 'CGQ'), ('KIX', 'TPE'), ('SHE', 'TNA'), ('ORD', 'SFO'), ('BKK', 'BOM'), ('DUS', 'ORD'), ('ATL', 'LHR'), ('TAO', 'HGH'), ('FOC', 'TNA'), ('FUK', 'ICN'), ('TFS', 'BRS'), ('PEK', 'XNN'), ('ATL', 'CUN'), ('ATL', 'CZM'), ('DPS', 'CGK'), ('ACE', 'MAN'), ('MAN', 'ORD'), ('MAN', 'ACE'), ('WNZ', 'CKG'), ('YVR', 'LAX'), ('TPE', 'BKK'), ('CTA', 'MUC'), ('JHG', 'KMG'), ('ORD', 'JFK'), ('BCN', 'VIE'), ('CGO', 'SYX'), ('SHA', 'HKG'), ('HGH', 'TAO'), ('HEL', 'ARN'), ('KIX', 'ICN'), ('DTW', 'DEN'), ('HGH', 'HAK'), ('SRQ', 'ATL'), ('AKL', 'SYD'), ('AMS', 'LIS'), ('ATL', 'JFK'), ('SEA', 'LAX'), ('JFK', 'YYZ'), ('SYD', 'LAX'), ('LAS', 'LAX'), ('CTU', 'TYN'), ('CKG', 'WNZ'), ('DME', 'VIE'), ('DEL', 'HKG'), ('CAK', 'ATL'), ('CWB', 'POA'), ('HRB', 'TNA'), ('PFO', 'LGW'), ('TAO', 'XIY'), ('TPE', 'PVG'), ('ATL', 'MDW'), ('MSY', 'DFW'), ('KWL', 'CGO'), ('STT', 'SJU'), ('SEA', 'YVR'), ('XIY', 'LJG'), ('JED', 'HBE'), ('LHR', 'MIA'), ('AUH', 'CMB'), ('GDL', 'MTY'), ('DLC', 'TNA'), ('COO', 'ABJ'), ('LKO', 'DEL'), ('BPN', 'CGK'), ('LHW', 'URC'), ('SIN', 'DXB'), ('HAK', 'CAN'), ('AUA', 'CCS'), ('DPS', 'SIN'), ('DTW', 'ATL'), ('YUL', 'CDG'), ('LGW', 'SSH'), ('JED', 'FRA'), ('SDF', 'ATL'), ('IXA', 'CCU'), ('FUE', 'MAN'), ('LAX', 'RNO'), ('KWL', 'XMN'), ('CKG', 'HAK'), ('DFW', 'LAX'), ('CTU', 'KWL'), ('WLG', 'SYD'), ('VIE', 'FRA'), ('GDL', 'ATL'), ('CCU', 'IXA'), ('HND', 'HNL'), ('TYN', 'CTU'), ('ICN', 'VVO'), ('CAN', 'NKG'), ('LED', 'DME'), ('BRU', 'LIS'), ('LAX', 'MCO'), ('SFO', 'LAX'), ('TXL', 'CTA'), ('TAO', 'PUS'), ('MUC', 'CTA'), ('IBZ', 'MAD'), ('BCN', 'LGW'), ('EWR', 'MSY'), ('BRU', 'OPO'), ('TSN', 'DLC'), ('BOM', 'TRV'), ('DTW', 'FRA'), ('TAO', 'CAN'), ('NRT', 'OKA'), ('JFK', 'MAN'), ('RDU', 'LHR'), ('LGW', 'LAS'), ('CDG', 'MIA'), ('LAX', 'SEA'), ('BOS', 'LAX'), ('VRN', 'TIA'), ('DPS', 'PER'), ('ATL', 'IAH'), ('SIN', 'CGK'), ('AGP', 'LGW'), ('PEK', 'NGB'), ('SYD', 'CNS'), ('SIN', 'JOG'), ('FRA', 'JED'), ('SYX', 'XMN'), ('TFS', 'BHX'), ('LGW', 'TFS'), ('CHS', 'ATL'), ('SHA', 'HND'), ('DUB', 'ORD'), ('BRU', 'KGL'), ('YYZ', 'LHR'), ('JFK', 'BCN'), ('LHR', 'EWR'), ('BOM', 'COK'), ('CDG', 'TLS'), ('CDG', 'CMN'), ('OSS', 'DME'), ('ACE', 'FUE'), ('DEL', 'PAT'), ('WUH', 'NNG'), ('ICN', 'YNT'), ('CNS', 'BNE'), ('OPO', 'BCN'), ('LGA', 'ATL'), ('MSP', 'SEA'), ('CCU', 'DEL'), ('MEL', 'ADL'), ('ABJ', 'ACC'), ('DAC', 'BKK'), ('ARN', 'TXL'), ('ACE', 'BHX'), ('SFO', 'DFW'), ('STL', 'LAX'), ('DEL', 'DXB'), ('PFO', 'MAN'), ('CUN', 'LGW'), ('SGN', 'SIN'), ('TNA', 'ICN'), ('ATL', 'SDF'), ('HKG', 'SHA'), ('ALC', 'LGW'), ('KWL', 'CTU'), ('FRA', 'BEG'), ('FOC', 'CSX'), ('BOM', 'LHR'), ('HKG', 'NKG'), ('YYZ', 'JFK'), ('DEN', 'MSY'), ('SHE', 'NKG'), ('ATL', 'AUS'), ('SVQ', 'PMI'), ('EWR', 'ATL'), ('KLO', 'MNL'), ('FOC', 'NKG'), ('AYT', 'LGW'), ('OGG', 'LAX'), ('HAK', 'PVG'), ('SJW', 'HGH'), ('WNZ', 'XIY'), ('CDG', 'ALG'), ('ATL', 'MKE'), ('PVG', 'CGQ'), ('MAR', 'CCS'), ('BRU', 'JFK'), ('IXZ', 'MAA'), ('NRT', 'PUS'), ('IXE', 'BOM'), ('KMG', 'NNG'), ('VIE', 'FLR'), ('XIY', 'TAO'), ('ORD', 'LGA'), ('LOS', 'ACC'), ('PVG', 'KWL'), ('KMG', 'TNA'), ('BLR', 'PNQ'), ('IAD', 'CDG'), ('CCU', 'GAU'), ('SYD', 'PER'), ('NRT', 'TPE'), ('ORD', 'LAX'), ('BRS', 'PMI'), ('SYX', 'CTU'), ('PMI', 'CGN'), ('PEK', 'HLD'), ('HKG', 'XMN'), ('IAH', 'ATL'), ('IST', 'IKA'), ('DFW', 'CDG'), ('ATL', 'ABQ'), ('JFK', 'SEA'), ('BKK', 'CAN'), ('TAO', 'PVG'), ('LHR', 'ORD'), ('DEN', 'MSP'), ('GYE', 'UIO'), ('SIN', 'AUH'), ('URC', 'CKG'), ('ATL', 'LAX'), ('BCN', 'OTP'), ('ORD', 'YVR'), ('FUE', 'BHX'), ('GOI', 'BLR'), ('SIN', 'PER'), ('KUL', 'CGK'), ('PRG', 'BCN'), ('CGK', 'SIN'), ('SZX', 'SIN'), ('DAC', 'KUL'), ('WNZ', 'CAN'), ('KWI', 'JED'), ('NRT', 'ICN'), ('LPA', 'LGW'), ('DLC', 'NKG'), ('ATL', 'HOU'), ('HRB', 'YNT'), ('MEX', 'ORD'), ('DLA', 'SSG'), ('CGO', 'HGH'), ('BOM', 'NAG'), ('LUN', 'HRE'), ('DEN', 'ATL'), ('BHX', 'TFS'), ('DEL', 'PNQ'), ('JFK', 'FRA'), ('ATL', 'RIC'), ('HRE', 'LUN'), ('ATL', 'TUS'), ('VIE', 'ZRH'), ('DKR', 'CKY'), ('BAH', 'DXB'), ('MCO', 'LGW'), ('PER', 'DPS'), ('ABQ', 'ATL'), ('JED', 'DXB'), ('MDW', 'ATL'), ('JFK', 'SAN'), ('CDG', 'ORD'), ('NKG', 'HKG'), ('NRT', 'BKK'), ('CPH', 'AMS'), ('ALC', 'MAN'), ('BWI', 'ATL'), ('NRT', 'CTS'), ('CSX', 'NGB'), ('HYD', 'DEL'), ('HYD', 'PNQ'), ('ATL', 'HSV'), ('ATL', 'DAY'), ('EZE', 'SCL'), ('LHR', 'YYZ'), ('LHR', 'DEL'), ('YVR', 'LHR'), ('ATL', 'CHA'), ('MAN', 'JFK'), ('ACC', 'ABJ'), ('MAA', 'DEL'), ('AYT', 'MAN'), ('TNA', 'KMG'), ('KWI', 'HBE'), ('XIY', 'XNN'), ('DME', 'TIV'), ('MAD', 'LPA'), ('LJG', 'CTU'), ('HLD', 'HET'), ('KUL', 'SIN'), ('BHM', 'ATL'), ('LAX', 'LAS'), ('DKR', 'BKO'), ('PEK', 'HKG'), ('ATL', 'ORF'), ('JFK', 'GRU'), ('BHX', 'ACE'), ('DEL', 'KBL'), ('FCO', 'VIE'), ('MCO', 'YYZ'), ('MNL', 'SIN'), ('ARN', 'LHR'), ('MIA', 'CDG'), ('DEN', 'PHX'), ('DLA', 'BRU'), ('BOM', 'BLR'), ('HKG', 'NRT'), ('GDL', 'LAX'), ('ATL', 'IAD'), ('MAA', 'SIN'), ('LAX', 'PVG'), ('JAI', 'BOM'), ('SZX', 'KHN'), ('IXB', 'CCU'), ('CTU', 'HAK'), ('HAK', 'PEK'), ('NKG', 'FOC'), ('SIN', 'NRT'), ('CUN', 'BOS'), ('LIS', 'BRU'), ('MIA', 'BCN'), ('LAX', 'SMF'), ('DOH', 'MCT'), ('YYC', 'YEG'), ('BKK', 'PVG'), ('INC', 'XIY'), ('DLM', 'LGW'), ('TPA', 'ATL'), ('DOH', 'BAH'), ('NGB', 'CSX'), ('JFK', 'SJU'), ('DPS', 'HKG'), ('DLC', 'HGH'), ('ORD', 'CDG'), ('JHG', 'LJG'), ('PMI', 'LGW'), ('ORD', 'YUL'), ('IAD', 'LHR'), ('YYZ', 'LGA'), ('PEK', 'FOC'), ('ADL', 'SYD'), ('SSH', 'LGW'), ('LPA', 'MAN'), ('CKG', 'KWL'), ('LAX', 'PPT'), ('PMI', 'VLC'), ('TAO', 'PEK'), ('AUH', 'FRA'), ('FRA', 'VIE'), ('YYZ', 'LAX'), ('FCO', 'ORD'), ('LIM', 'MIA'), ('TPE', 'SFO'), ('BOM', 'HYD'), ('NRT', 'ORD'), ('ATL', 'PIT'), ('JRO', 'DAR'), ('OTP', 'BCN'), ('ATL', 'XNA'), ('KBL', 'DXB'), ('PHL', 'DEN'), ('LAX', 'ORD'), ('BNE', 'ADL'), ('SFO', 'LHR'), ('ATL', 'TYS'), ('TFS', 'LGW'), ('EWR', 'BRU'), ('KMG', 'NKG'), ('CAN', 'BKK'), ('CMB', 'SIN'), ('LGW', 'RAK'), ('HRB', 'XIY'), ('PUS', 'NRT'), ('CPH', 'TXL'), ('XNN', 'XIY'), ('CUN', 'ATL'), ('DXB', 'JED'), ('LXA', 'CTU'), ('BOS', 'LHR'), ('ORD', 'DUS'), ('PEN', 'SIN'), ('HKG', 'TPE'), ('HGH', 'LJG'), ('BRU', 'DLA'), ('DLC', 'XIY'), ('TNA', 'CKG'), ('TYS', 'ATL'), ('KMG', 'CGO'), ('MAD', 'TFN'), ('FAO', 'LGW'), ('HAM', 'AYT'), ('VIE', 'TXL'), ('BKK', 'HKT'), ('EMA', 'TFS'), ('HFE', 'CAN'), ('CCU', 'DAC'), ('PER', 'MEL'), ('LHR', 'BOS'), ('HAM', 'AMS'), ('ELP', 'LAX'), ('LHR', 'ABZ'), ('LHR', 'LIS'), ('MAN', 'DLM'), ('MSP', 'ORD'), ('DUB', 'JFK'), ('DBV', 'LGW'), ('YEG', 'YZF'), ('CTU', 'XNN'), ('PHL', 'ATL'), ('ORD', 'YYC'), ('CMB', 'AUH'), ('BCN', 'MIA'), ('CUN', 'JFK'), ('ATL', 'OKC'), ('PNQ', 'DEL'), ('HKG', 'ICN'), ('ATL', 'RDU'), ('CJU', 'GMP'), ('PVG', 'TAO'), ('FCO', 'YYZ'), ('LGW', 'CUN'), ('SFO', 'PVR'), ('CGK', 'SUB'), ('LAX', 'SJD'), ('MEL', 'WLG'), ('CTA', 'DUS'), ('DEL', 'LHR'), ('SCL', 'EZE'), ('BHX', 'PMI'), ('CAN', 'TAO'), ('ZRH', 'VIE'), ('HKT', 'HKG'), ('LAX', 'YYZ'), ('SHA', 'SJW'), ('SIN', 'ICN'), ('BOM', 'CCU'), ('KTM', 'DEL'), ('HND', 'SHA'), ('YUL', 'ORD'), ('MEL', 'SYD'), ('JNB', 'CPT'), ('MNL', 'NRT'), ('LUN', 'LLW'), ('LHR', 'PHL'), ('DLM', 'MAN'), ('CKG', 'LJG'), ('NRT', 'PEK'), ('CTU', 'LXA'), ('ICN', 'PVG'), ('ATL', 'MCO'), ('LAX', 'SLC'), ('PMI', 'MAN'), ('HAK', 'CTU'), ('CGQ', 'PVG'), ('MAD', 'MIA'), ('HRG', 'LGW'), ('TAO', 'NGB'), ('SIN', 'HKG'), ('HKG', 'BKK'), ('GRU', 'MVD'), ('ISB', 'AUH'), ('KBL', 'DEL'), ('ATL', 'SEA'), ('CCU', 'BLR'), ('MEX', 'MTY'), ('ORD', 'NRT'), ('ICN', 'TAO'), ('LHR', 'ATL'), ('SFO', 'ICN'), ('BRU', 'MAD'), ('ATL', 'PNS'), ('FCO', 'MXP'), ('CGQ', 'TAO'), ('AMS', 'AUH'), ('OUA', 'ABJ'), ('KIX', 'PUS'), ('ATL', 'GSO'), ('HKG', 'KIX'), ('JFK', 'ORD'), ('ABZ', 'LHR'), ('LHR', 'SFO'), ('PMI', 'BCN'), ('ATL', 'SAV'), ('MUC', 'MAN'), ('ACE', 'GLA'), ('HNL', 'OGG'), ('MCO', 'ATL'), ('TSA', 'SHA'), ('SFO', 'HKG'), ('CGO', 'HAK'), ('MEX', 'ATL'), ('YYZ', 'CDG'), ('DEL', 'KTM'), ('YYZ', 'YUL'), ('PNH', 'SIN'), ('MNL', 'KLO'), ('SIN', 'SYD'), ('JNB', 'WDH'), ('HBE', 'JED'), ('XIY', 'URC'), ('YUL', 'YYZ'), ('LHR', 'JFK'), ('CSX', 'FOC'), ('LGW', 'FAO'), ('INC', 'PVG'), ('NGO', 'ICN'), ('SAT', 'ATL'), ('PMI', 'DUS'), ('LGA', 'YUL'), ('TNA', 'CGQ'), ('PER', 'SIN'), ('NKG', 'DLC'), ('MKE', 'ATL'), ('SKG', 'ATH'), ('GRU', 'EZE'), ('LAX', 'LIM'), ('BCN', 'BRU'), ('PTP', 'FDF'), ('MAN', 'AGP'), ('KUL', 'DAC'), ('FOC', 'HAK'), ('XMN', 'HKG'), ('CGO', 'KMG'), ('VQS', 'SJU'), ('UIO', 'GYE'), ('KHH', 'NRT'), ('DEN', 'DFW'), ('PEK', 'DLC'), ('AGP', 'BRU'), ('LAX', 'MSY'), ('ATL', 'CLT'), ('SIN', 'CMB'), ('SZX', 'NNG'), ('LAX', 'GDL'), ('VIE', 'MUC'), ('NKG', 'XMN'), ('JNB', 'LHR'), ('HRB', 'PVG'), ('ATL', 'BHM'), ('ARN', 'HEL'), ('CPT', 'JNB'), ('PUS', 'KIX'), ('CDG', 'JFK'), ('IDR', 'DEL'), ('LAX', 'BOS'), ('BOG', 'MIA'), ('KHG', 'URC'), ('PVG', 'DLC'), ('LAX', 'BNA'), ('BOM', 'JAI'), ('LAS', 'LGW'), ('BRU', 'DKR'), ('MUC', 'HER'), ('BCN', 'AMS'), ('TYN', 'HGH'), ('DLC', 'PVG'), ('TNA', 'XIY'), ('HRB', 'TAO'), ('YZV', 'YWK'), ('AUH', 'LHE'), ('DEL', 'BLR'), ('PEK', 'HRB'), ('LAX', 'DEN'), ('BLR', 'HYD'), ('SYX', 'CSX'), ('JAN', 'ATL'), ('ORY', 'LIS'), ('TIP', 'TUN'), ('HSV', 'ATL'), ('LAX', 'SJC'), ('URC', 'KHG'), ('DLC', 'TAO'), ('LGW', 'DLM'), ('ORY', 'OPO'), ('MEX', 'MIA'), ('LAX', 'MSP'), ('ATL', 'SJU'), ('MIA', 'CLO'), ('NKG', 'SHE'), ('JFK', 'MXP'), ('PVG', 'HRB'), ('DEN', 'SLC'), ('AMS', 'LHR'), ('CGQ', 'PEK'), ('HYD', 'BLR'), ('AUH', 'KWI'), ('KGL', 'EBB'), ('ICN', 'SIN'), ('KIX', 'PVG'), ('MLE', 'CMB'), ('SYX', 'CGO'), ('PMI', 'BHX'), ('LHR', 'WAW'), ('ATL', 'CHS'), ('MAA', 'BLR'), ('FRA', 'LIS'), ('LAX', 'HNL'), ('DEN', 'DTW'), ('TSE', 'ALA'), ('FCO', 'ATL'), ('CPH', 'OSL'), ('MSP', 'DEN'), ('COK', 'BOM'), ('MAN', 'ALC'), ('KIX', 'TAO'), ('LAX', 'ATL'), ('TNA', 'CAN'), ('CTU', 'URC'), ('DEL', 'HYD'), ('MEL', 'AKL'), ('LIS', 'LHR'), ('LAX', 'SFO'), ('XMN', 'SYX'), ('MEL', 'SIN'), ('DUS', 'PMI'), ('YZF', 'YEG'), ('CGO', 'CKG'), ('DFW', 'MEX'), ('PVG', 'SHE'), ('NKG', 'CTU'), ('TSN', 'HRB'), ('XIY', 'FOC'), ('AUH', 'BAH'), ('MAN', 'PMI'), ('XIY', 'TNA'), ('KWL', 'HGH'), ('INC', 'PEK'), ('PEK', 'LHW'), ('FCO', 'JFK'), ('BLR', 'CCU'), ('HAK', 'FOC'), ('SMF', 'SEA'), ('DFW', 'YYZ'), ('CLT', 'ATL'), ('JFK', 'MSY'), ('DME', 'OSS'), ('CKY', 'DKR'), ('LAX', 'JFK'), ('SYD', 'ADL'), ('ATL', 'LAS'), ('CLO', 'MIA'), ('HKG', 'CKG'), ('MSP', 'ATL'), ('SJU', 'VQS'), ('HGH', 'DLC'), ('XMN', 'HFE'), ('AUH', 'PEK'), ('MAA', 'HYD'), ('HTN', 'URC'), ('HKT', 'SIN'), ('JFK', 'FCO'), ('FRA', 'ATL'), ('SLC', 'LAX'), ('OUA', 'NIM'), ('LAX', 'SAN'), ('AUH', 'SIN'), ('MSP', 'SFO'), ('PEK', 'NRT'), ('ATL', 'CMH'), ('SAN', 'ATL'), ('ADL', 'BNE'), ('CGK', 'JOG'), ('LAX', 'PHX'), ('WUH', 'TAO'), ('GLA', 'ACE'), ('SXR', 'DEL'), ('MEL', 'PER'), ('EWR', 'LHR'), ('ZRH', 'LIS'), ('OPO', 'LIS'), ('VLC', 'PMI'), ('CTU', 'LJG'), ('CKG', 'XNN'), ('SIN', 'MNL'), ('LGW', 'ACE'), ('SYX', 'HGH'), ('RGN', 'SIN'), ('HRB', 'PEK'), ('NGB', 'TAO'), ('PVG', 'NRT'), ('EDI', 'LHR'), ('LHR', 'LAX'), ('KWL', 'XIY'), ('XNN', 'PEK'), ('LHR', 'DXB'), ('LGW', 'AGP'), ('MEM', 'ATL'), ('RUH', 'JED'), ('DEL', 'CCU'), ('TPE', 'SIN'), ('NRT', 'CAN'), ('SJD', 'ATL'), ('HFE', 'XMN'), ('DLC', 'PEK'), ('LHR', 'AMS'), ('SAN', 'JFK'), ('URC', 'SHA'), ('MVD', 'GRU'), ('LHR', 'YVR'), ('ATL', 'PBI'), ('BCN', 'PMI'), ('IND', 'ATL'), ('MSP', 'PHX'), ('TPE', 'FUK'), ('IAH', 'LHR'), ('NNG', 'WUH'), ('CKG', 'LXA'), ('ATL', 'CVG'), ('DUS', 'CTA'), ('XNN', 'CKG'), ('LHR', 'ARN'), ('YYC', 'ORD'), ('LCA', 'ATH'), ('PTY', 'MIA'), ('MIA', 'MEX'), ('ATL', 'ORD'), ('JFK', 'ATL'), ('JFK', 'CUN'), ('URC', 'CGO'), ('GIG', 'EZE'), ('AGP', 'PMI'), ('SZX', 'NKG'), ('BNA', 'ATL'), ('HKG', 'BKI'), ('PNQ', 'BLR'), ('JFK', 'SFO'), ('SEA', 'DEN'), ('HGH', 'SHE'), ('AQP', 'LIM'), ('ATL', 'SRQ'), ('BNE', 'MEL'), ('GIG', 'GRU'), ('YWK', 'YZV'), ('MAN', 'MUC'), ('BKK', 'HKG'), ('EZE', 'GIG'), ('PIT', 'ATL'), ('HET', 'HLD'), ('LHR', 'DFW'), ('DFW', 'MSY'), ('ATL', 'DCA'), ('DEL', 'VNS'), ('IKA', 'IST'), ('MAN', 'LHR'), ('YVR', 'SEA'), ('XMN', 'NKG'), ('CDG', 'PRG'), ('ORD', 'MEX'), ('PRG', 'FCO'), ('URC', 'HTN'), ('ICN', 'SFO'), ('CGO', 'KWL'), ('ATL', 'STL'), ('DEL', 'BOM'), ('ATL', 'JAX'), ('SCL', 'LIM'), ('LIM', 'CUZ'), ('ORD', 'YYZ'), ('CTA', 'LGW'), ('XMN', 'CGO'), ('HKG', 'HGH'), ('CZM', 'ATL'), ('RSW', 'ATL'), ('MEX', 'DFW'), ('TAO', 'WUH'), ('ATL', 'MEX'), ('LHR', 'IAD'), ('DAR', 'NBO'), ('BAH', 'DOH'), ('BCN', 'OPO'), ('SHE', 'HGH'), ('MIA', 'MXP'), ('LGK', 'SIN'), ('GAU', 'DEL'), ('DFW', 'DEN'), ('SEA', 'ATL'), ('COK', 'MAA'), ('PEK', 'INC'), ('ATL', 'YYZ'), ('LGW', 'ALC'), ('LAX', 'AUS'), ('MNL', 'CEB'), ('AUA', 'MIA'), ('LHR', 'EDI'), ('PNQ', 'HYD'), ('MIA', 'AUA'), ('PHX', 'PDX'), ('SIN', 'SZX'), ('SEA', 'SFO'), ('MUC', 'VIE'), ('SYD', 'BNE'), ('LHR', 'JNB'), ('NNG', 'SHA'), ('DFW', 'MSP'), ('FCO', 'BRU'), ('CDG', 'DFW'), ('BOM', 'BKK'), ('MAD', 'LIS'), ('NGB', 'PEK'), ('HBE', 'KWI'), ('BKO', 'DKR'), ('ATL', 'BWI'), ('CCS', 'AUA'), ('NRT', 'PVG'), ('LGW', 'PMI'), ('PHX', 'DEN'), ('KIX', 'GMP'), ('MFM', 'PVG'), ('CTU', 'TAO'), ('MIA', 'LIM'), ('PVG', 'NGO'), ('AUH', 'LHR'), ('URC', 'LHW'), ('PER', 'SYD'), ('PVG', 'HKG')], 'Subgraph-4': [('CAN', 'HGH'), ('CKG', 'XIY'), ('HGH', 'CAN'), ('XIY', 'CKG'), ('HGH', 'CTU'), ('KMG', 'CKG'), ('KMG', 'CTU'), ('CKG', 'KMG'), ('CTU', 'HGH'), ('CTU', 'KMG'), ('HGH', 'KMG'), ('WUH', 'XMN'), ('XIY', 'PVG'), ('SZX', 'HGH'), ('HGH', 'PEK'), ('WUH', 'KMG'), ('CSX', 'XMN'), ('CAN', 'CKG'), ('CSX', 'KMG'), ('PEK', 'HGH'), ('CTU', 'XIY'), ('PVG', 'XIY'), ('KWE', 'XIY'), ('XMN', 'CSX'), ('KMG', 'HGH'), ('KMG', 'WUH'), ('KMG', 'XIY'), ('KMG', 'CSX'), ('KMG', 'XMN'), ('XIY', 'KMG'), ('XIY', 'KWE'), ('CKG', 'CAN'), ('XMN', 'KMG'), ('XIY', 'CTU'), ('KMG', 'PVG'), ('PVG', 'CKG'), ('SZX', 'SHA'), ('SZX', 'CTU'), ('WUH', 'CTU'), ('XMN', 'WUH'), ('KWE', 'KMG'), ('CSX', 'XIY'), ('PVG', 'CTU'), ('PEK', 'SHA'), ('HGH', 'SZX'), ('CTU', 'SZX'), ('CTU', 'SHA'), ('CTU', 'PVG'), ('HGH', 'XIY'), ('KMG', 'KWE'), ('XIY', 'XMN'), ('CTU', 'WUH'), ('CKG', 'TSN'), ('SHA', 'CKG'), ('SHA', 'TSN'), ('SHA', 'CTU'), ('CAN', 'SHA'), ('TSN', 'CKG'), ('XMN', 'XIY'), ('SHA', 'CAN'), ('XIY', 'HGH'), ('XIY', 'TSN'), ('CKG', 'SHA'), ('CKG', 'PVG'), ('XIY', 'CSX'), ('TSN', 'SHA'), ('TSN', 'XIY'), ('SHA', 'SZX'), ('SHA', 'PEK'), ('HGH', 'CKG'), ('CKG', 'CSX'), ('CKG', 'HGH'), ('XMN', 'CTU'), ('PEK', 'CKG'), ('KWE', 'CTU'), ('KMG', 'CAN'), ('SHA', 'KWE'), ('TSN', 'SZX'), ('XMN', 'SHA'), ('SZX', 'CKG'), ('SZX', 'KMG'), ('SZX', 'PVG'), ('SZX', 'TSN'), ('PEK', 'XMN'), ('KWE', 'CSX'), ('XMN', 'PEK'), ('KMG', 'SZX'), ('KMG', 'PEK'), ('PEK', 'CTU'), ('CTU', 'PEK'), ('SHA', 'XMN'), ('CTU', 'TSN'), ('CAN', 'PVG'), ('KWE', 'HGH'), ('CTU', 'KWE'), ('CSX', 'KWE'), ('CTU', 'XMN'), ('PEK', 'KMG'), ('CAN', 'XMN'), ('CSX', 'CKG'), ('KWE', 'SHA'), ('CSX', 'CTU'), ('PVG', 'PEK'), ('CAN', 'CTU'), ('CTU', 'CAN'), ('PVG', 'CAN'), ('WUH', 'CKG'), ('PVG', 'SZX'), ('CTU', 'CSX'), ('HGH', 'KWE'), ('PVG', 'KMG'), ('PEK', 'PVG'), ('XMN', 'CAN'), ('CKG', 'PEK'), ('CKG', 'WUH'), ('TSN', 'CTU'), ('CKG', 'SZX'), ('XMN', 'TSN'), ('KWE', 'SZX'), ('PEK', 'CSX'), ('KWE', 'WUH'), ('KWE', 'CKG'), ('KWE', 'PVG'), ('PEK', 'XIY'), ('PEK', 'WUH'), ('WUH', 'HGH'), ('WUH', 'KWE'), ('XIY', 'SZX'), ('WUH', 'PEK'), ('SHA', 'XIY'), ('WUH', 'PVG'), ('XIY', 'SHA'), ('HGH', 'WUH'), ('HGH', 'TSN'), ('WUH', 'CAN'), ('XIY', 'PEK'), ('XIY', 'CAN'), ('SHA', 'KMG'), ('SHA', 'CSX'), ('HGH', 'CSX'), ('XMN', 'CKG'), ('XMN', 'HGH'), ('HGH', 'XMN'), ('TSN', 'HGH'), ('TSN', 'XMN'), ('CKG', 'KWE'), ('CKG', 'XMN'), ('PVG', 'KWE'), ('TSN', 'CAN'), ('PVG', 'WUH'), ('CAN', 'KMG'), ('CAN', 'TSN'), ('CAN', 'WUH'), ('CAN', 'XIY'), ('CSX', 'HGH'), ('CSX', 'PEK'), ('CSX', 'SHA'), ('TSN', 'CSX'), ('CSX', 'TSN'), ('KMG', 'SHA'), ('SZX', 'KWE'), ('SZX', 'XIY')], 'Subgraph-248': [('KGL', 'NBO'), ('KGL', 'BJM'), ('BJM', 'KGL'), ('BJM', 'NBO')]})\n"
     ]
    }
   ],
   "source": [
    "ihcs_edges = defaultdict(list)\n",
    "ihcs_edges['Singletons'] = []\n",
    "for route in routes_list:\n",
    "    source, destination = route\n",
    "    for key, cluster in ihcs_nodes.items():\n",
    "        if key != 'Singletons':\n",
    "            if source in cluster and destination in cluster:\n",
    "                ihcs_edges[key].append(route)\n",
    "ihcs_edges['Singletons'] += list(set(routes_list)-set([edge for cluster in ihcs_edges.values() for edge in cluster]))\n",
    "print(ihcs_edges)"
   ]
  },
  {
   "cell_type": "markdown",
   "id": "a9f901a2",
   "metadata": {},
   "source": [
    "### Draw IHCS"
   ]
  },
  {
   "cell_type": "code",
   "execution_count": 35,
   "id": "67a0f990",
   "metadata": {},
   "outputs": [
    {
     "data": {
      "text/plain": [
       "'C:\\\\Users\\\\laoth\\\\Desktop\\\\study\\\\web\\\\echarts\\\\RouteBased\\\\ihcs.html'"
      ]
     },
     "execution_count": 35,
     "metadata": {},
     "output_type": "execute_result"
    }
   ],
   "source": [
    "# Initialize the Geo object\n",
    "c = Geo(init_opts=opts.InitOpts(width=\"1800px\", height=\"1000px\")) # Full the screen\n",
    "c.add_schema(maptype=\"world\")\n",
    "\n",
    "L_n = len(ihcs_nodes.keys())\n",
    "L_e = len(ihcs_edges.keys())\n",
    "\n",
    "for i, key in enumerate(ihcs_nodes.keys()):\n",
    "    # Add airport scatter points\n",
    "    rate = i/L_n\n",
    "    color = f\"rgb({255 - 250*rate},0, 0)\"\n",
    "    c.add(\n",
    "        f\"Airports {key}\",\n",
    "        data_pair=ihcs_nodes_count[key],\n",
    "        type_=ChartType.EFFECT_SCATTER,\n",
    "        color=color,\n",
    "        symbol_size=3,\n",
    "    )\n",
    "\n",
    "for i, key in enumerate(ihcs_edges.keys()):\n",
    "    # Add airline routes for different ranges\n",
    "    rate = i/L_e\n",
    "    color = f\"rgb({255 - 250*rate},160, {250*rate})\"\n",
    "    c.add(\n",
    "        f\"Routes {key}\",\n",
    "        data_pair=ihcs_edges[key],  # Replace with your route filtering function\n",
    "        type_=ChartType.LINES,\n",
    "        symbol_size=0,\n",
    "        effect_opts=opts.EffectOpts(\n",
    "            symbol=SymbolType.ARROW, symbol_size=3, color=color,  # Dynamic RGB color\n",
    "        ),\n",
    "        linestyle_opts=opts.LineStyleOpts(\n",
    "            width=0.1, curve=0.4, opacity=0.2 + 0.8*rate, type_=\"solid\",color=color,  # Dynamic RGB color\n",
    "        ),\n",
    "    )\n",
    "\n",
    "c.set_series_opts(label_opts=opts.LabelOpts(is_show=False))\n",
    "c.set_global_opts(title_opts=opts.TitleOpts(title=\"Aiport and Routes (ICHS)\",pos_left = 'center'),\n",
    "                  legend_opts = opts.LegendOpts(type_ = 'scroll',orient = 'vertical',pos_left = 'left'))\n",
    "c.render('echarts\\\\RouteBased\\\\ihcs.html') # save as .html\n",
    "# c.render_notebook() # if you want to display the graph in notebook, add this line, and set (width=\"900px\", height=\"500px\")"
   ]
  },
  {
   "cell_type": "markdown",
   "id": "0dd351c6",
   "metadata": {},
   "source": [
    "## LCMA - Local Clique Merging Algorithm"
   ]
  },
  {
   "cell_type": "markdown",
   "id": "47b7dc17",
   "metadata": {},
   "source": [
    "## Divisive methods"
   ]
  },
  {
   "cell_type": "markdown",
   "id": "1adc42c6",
   "metadata": {},
   "source": [
    "##  Agglomerative methods"
   ]
  },
  {
   "cell_type": "code",
   "execution_count": 55,
   "id": "c85f18b5",
   "metadata": {},
   "outputs": [
    {
     "name": "stdout",
     "output_type": "stream",
     "text": [
      "\n",
      "Clustering Results:\n",
      "   Latitude  Longitude         City  Cluster\n",
      "0   40.7128   -74.0060     New York        0\n",
      "1   34.0522  -118.2437  Los Angeles        0\n",
      "2   41.8781   -87.6298      Chicago        0\n",
      "3   51.5074    -0.1278       London        1\n",
      "4   48.8566     2.3522        Paris        1\n",
      "5   52.5200    13.4050       Berlin        1\n"
     ]
    },
    {
     "data": {
      "image/png": "[encoded data removed]",
      "text/plain": [
       "<Figure size 1200x600 with 2 Axes>"
      ]
     },
     "metadata": {},
     "output_type": "display_data"
    }
   ],
   "source": [
    "import numpy as np\n",
    "from scipy.spatial.distance import pdist, squareform\n",
    "from typing import List, Tuple, Dict\n",
    "import pandas as pd\n",
    "\n",
    "class AgglomerativeGeoClustering:\n",
    "    \"\"\"\n",
    "    Agglomerative clustering implementation specifically for geographic coordinates.\n",
    "    Uses great circle distance (haversine) for measuring distances between points.\n",
    "    \"\"\"\n",
    "    \n",
    "    def __init__(self, n_clusters: int = 2, linkage: str = 'complete'):\n",
    "        \"\"\"\n",
    "        Initialize the clustering algorithm.\n",
    "        \n",
    "        Args:\n",
    "            n_clusters: Number of desired clusters\n",
    "            linkage: Linkage criterion ('single', 'complete', 'average')\n",
    "        \"\"\"\n",
    "        self.n_clusters = n_clusters\n",
    "        self.linkage = linkage\n",
    "        self.labels_ = None\n",
    "        self.clusters_ = None\n",
    "        \n",
    "    def haversine_distance(self, lat1: float, lon1: float, lat2: float, lon2: float) -> float:\n",
    "        \"\"\"\n",
    "        Calculate the great circle distance between two points on Earth.\n",
    "        \n",
    "        Args:\n",
    "            lat1, lon1: Coordinates of first point\n",
    "            lat2, lon2: Coordinates of second point\n",
    "            \n",
    "        Returns:\n",
    "            Distance in kilometers\n",
    "        \"\"\"\n",
    "        R = 6371  # Earth's radius in kilometers\n",
    "        \n",
    "        # Convert to radians\n",
    "        lat1, lon1, lat2, lon2 = map(np.radians, [lat1, lon1, lat2, lon2])\n",
    "        \n",
    "        # Haversine formula\n",
    "        dlat = lat2 - lat1\n",
    "        dlon = lon2 - lon1\n",
    "        a = np.sin(dlat/2)**2 + np.cos(lat1) * np.cos(lat2) * np.sin(dlon/2)**2\n",
    "        c = 2 * np.arcsin(np.sqrt(a))\n",
    "        \n",
    "        return R * c\n",
    "    \n",
    "    def compute_distance_matrix(self, coordinates: np.ndarray) -> np.ndarray:\n",
    "        \"\"\"\n",
    "        Compute the distance matrix for all points using haversine distance.\n",
    "        \n",
    "        Args:\n",
    "            coordinates: Array of shape (n_samples, 2) containing lat/lon pairs\n",
    "            \n",
    "        Returns:\n",
    "            Distance matrix of shape (n_samples, n_samples)\n",
    "        \"\"\"\n",
    "        n_samples = coordinates.shape[0]\n",
    "        dist_matrix = np.zeros((n_samples, n_samples))\n",
    "        \n",
    "        for i in range(n_samples):\n",
    "            for j in range(i+1, n_samples):\n",
    "                dist = self.haversine_distance(\n",
    "                    coordinates[i, 0], coordinates[i, 1],\n",
    "                    coordinates[j, 0], coordinates[j, 1]\n",
    "                )\n",
    "                dist_matrix[i, j] = dist\n",
    "                dist_matrix[j, i] = dist\n",
    "                \n",
    "        return dist_matrix\n",
    "    \n",
    "    def merge_clusters(self, dist_matrix: np.ndarray, clusters: List[List[int]]) -> Tuple[List[List[int]], float]:\n",
    "        \"\"\"\n",
    "        Find and merge the closest pair of clusters.\n",
    "        \n",
    "        Args:\n",
    "            dist_matrix: Current distance matrix\n",
    "            clusters: List of current clusters (each cluster is a list of indices)\n",
    "            \n",
    "        Returns:\n",
    "            Updated clusters and the merging distance\n",
    "        \"\"\"\n",
    "        n_clusters = len(clusters)\n",
    "        min_dist = float('inf')\n",
    "        merge_i, merge_j = 0, 0\n",
    "        \n",
    "        # Find closest pair of clusters\n",
    "        for i in range(n_clusters):\n",
    "            for j in range(i+1, n_clusters):\n",
    "                # Get distances between all points in clusters i and j\n",
    "                distances = dist_matrix[np.ix_(clusters[i], clusters[j])]\n",
    "                \n",
    "                # Apply linkage criterion\n",
    "                if self.linkage == 'single':\n",
    "                    dist = np.min(distances)\n",
    "                elif self.linkage == 'complete':\n",
    "                    dist = np.max(distances)\n",
    "                else:  # average\n",
    "                    dist = np.mean(distances)\n",
    "                \n",
    "                if dist < min_dist:\n",
    "                    min_dist = dist\n",
    "                    merge_i, merge_j = i, j\n",
    "        \n",
    "        # Merge clusters\n",
    "        clusters[merge_i].extend(clusters[merge_j])\n",
    "        clusters.pop(merge_j)\n",
    "        \n",
    "        return clusters, min_dist\n",
    "    \n",
    "    def fit(self, X: np.ndarray) -> 'AgglomerativeGeoClustering':\n",
    "        \"\"\"\n",
    "        Fit the agglomerative clustering model.\n",
    "        \n",
    "        Args:\n",
    "            X: Array of shape (n_samples, 2) containing lat/lon pairs\n",
    "            \n",
    "        Returns:\n",
    "            self\n",
    "        \"\"\"\n",
    "        n_samples = X.shape[0]\n",
    "        \n",
    "        # Compute initial distance matrix\n",
    "        dist_matrix = self.compute_distance_matrix(X)\n",
    "        \n",
    "        # Initialize clusters (one point per cluster)\n",
    "        clusters = [[i] for i in range(n_samples)]\n",
    "        \n",
    "        # Merge clusters until desired number is reached\n",
    "        while len(clusters) > self.n_clusters:\n",
    "            clusters, merge_dist = self.merge_clusters(dist_matrix, clusters)\n",
    "        \n",
    "        # Assign cluster labels\n",
    "        self.labels_ = np.zeros(n_samples, dtype=int)\n",
    "        for i, cluster in enumerate(clusters):\n",
    "            self.labels_[cluster] = i\n",
    "        \n",
    "        self.clusters_ = clusters\n",
    "        return self\n",
    "    \n",
    "    def fit_predict(self, X: np.ndarray) -> np.ndarray:\n",
    "        \"\"\"\n",
    "        Fit the model and return cluster labels.\n",
    "        \n",
    "        Args:\n",
    "            X: Array of shape (n_samples, 2) containing lat/lon pairs\n",
    "            \n",
    "        Returns:\n",
    "            Array of cluster labels\n",
    "        \"\"\"\n",
    "        self.fit(X)\n",
    "        return self.labels_\n",
    "\n",
    "# Example usage\n",
    "if __name__ == \"__main__\":\n",
    "    # Sample data: Some cities' coordinates\n",
    "    data = pd.DataFrame({\n",
    "        'Latitude': [40.7128, 34.0522, 41.8781, 51.5074, 48.8566, 52.5200],\n",
    "        'Longitude': [-74.0060, -118.2437, -87.6298, -0.1278, 2.3522, 13.4050],\n",
    "        'City': ['New York', 'Los Angeles', 'Chicago', 'London', 'Paris', 'Berlin']\n",
    "    })\n",
    "    \n",
    "    # Create and fit the clustering model\n",
    "    clustering = AgglomerativeGeoClustering(n_clusters=2, linkage='complete')\n",
    "    coordinates = data[['Latitude', 'Longitude']].values\n",
    "    labels = clustering.fit_predict(coordinates)\n",
    "    \n",
    "    # Add cluster labels to the dataframe\n",
    "    data['Cluster'] = labels\n",
    "    print(\"\\nClustering Results:\")\n",
    "    print(data)\n",
    "    \n",
    "    try:\n",
    "        import matplotlib.pyplot as plt\n",
    "        \n",
    "        # Plot the clusters\n",
    "        plt.figure(figsize=(12, 6))\n",
    "        scatter = plt.scatter(data['Longitude'], data['Latitude'], \n",
    "                            c=data['Cluster'], cmap='viridis',\n",
    "                            s=100)\n",
    "        \n",
    "        # Add city labels\n",
    "        for i, row in data.iterrows():\n",
    "            plt.annotate(row['City'], \n",
    "                        (row['Longitude'], row['Latitude']),\n",
    "                        xytext=(5, 5), textcoords='offset points')\n",
    "        \n",
    "        plt.colorbar(scatter, label='Cluster')\n",
    "        plt.title('Agglomerative Clustering of Cities')\n",
    "        plt.xlabel('Longitude')\n",
    "        plt.ylabel('Latitude')\n",
    "        plt.grid(True)\n",
    "        plt.show()\n",
    "    except ImportError:\n",
    "        print(\"\\nMatplotlib not available for visualization\")"
   ]
  },
  {
   "cell_type": "code",
   "execution_count": null,
   "id": "6b522762",
   "metadata": {},
   "outputs": [],
   "source": []
  },
  {
   "cell_type": "code",
   "execution_count": null,
   "id": "3623b056",
   "metadata": {},
   "outputs": [],
   "source": []
  },
  {
   "cell_type": "code",
   "execution_count": null,
   "id": "f06a52c2",
   "metadata": {},
   "outputs": [],
   "source": []
  }
 ],
 "metadata": {
  "kernelspec": {
   "display_name": "Python 3 (ipykernel)",
   "language": "python",
   "name": "python3"
  },
  "language_info": {
   "codemirror_mode": {
    "name": "ipython",
    "version": 3
   },
   "file_extension": ".py",
   "mimetype": "text/x-python",
   "name": "python",
   "nbconvert_exporter": "python",
   "pygments_lexer": "ipython3",
   "version": "3.10.13"
  },
  "toc": {
   "base_numbering": 1,
   "nav_menu": {},
   "number_sections": true,
   "sideBar": true,
   "skip_h1_title": false,
   "title_cell": "Table of Contents",
   "title_sidebar": "Contents",
   "toc_cell": false,
   "toc_position": {
    "height": "765.323px",
    "left": "10px",
    "top": "150px",
    "width": "270.667px"
   },
   "toc_section_display": true,
   "toc_window_display": true
  }
 },
 "nbformat": 4,
 "nbformat_minor": 5
}
