{
 "cells": [
  {
   "cell_type": "markdown",
   "id": "225cc1ad",
   "metadata": {},
   "source": [
    "----\n",
    "Group Members:  \n",
    "    1. Ye,Shenghua  \n",
    "    2.  \n",
    "    3.  \n",
    "    4.  \n",
    "    5.  "
   ]
  },
  {
   "cell_type": "markdown",
   "id": "716ff171",
   "metadata": {},
   "source": [
    "# Read Data"
   ]
  },
  {
   "cell_type": "code",
   "execution_count": 1,
   "id": "0ecdb8dd",
   "metadata": {},
   "outputs": [],
   "source": [
    "# Using pandas\n",
    "import pandas as pd\n",
    "pd.set_option('display.max_rows',10)\n",
    "pd.set_option('display.min_rows',10)"
   ]
  },
  {
   "cell_type": "code",
   "execution_count": 2,
   "id": "dcc0905d",
   "metadata": {},
   "outputs": [],
   "source": [
    "# Read the .dat file (assuming tab-separated values)\n",
    "airports = pd.read_csv('airports.dat', sep=',',header = None, encoding='utf-8')  # Change separator as needed\n",
    "airports.columns = [\n",
    "    \"Airport ID\", \"Name\", \"City\", \"Country\", \n",
    "    \"IATA\", \"ICAO\", \"Latitude\", \"Longitude\", \n",
    "    \"Altitude\", \"Timezone\", \"DST\", \"Tz database time zone\", \n",
    "    \"Type\", \"Source\"\n",
    "]\n",
    "routes = pd.read_csv('routes.dat', sep=',',header = None, encoding='utf-8')  # Change separator as needed\n",
    "routes.columns = [\n",
    "    \"Airline\", \"Airline ID\", \"Source airport\", \"Source airport ID\", \n",
    "    \"Destination airport\", \"Destination airport ID\", \"Codeshare\", \n",
    "    \"Stops\", \"Equipment\"\n",
    "]"
   ]
  },
  {
   "cell_type": "code",
   "execution_count": 3,
   "id": "b74663f9",
   "metadata": {},
   "outputs": [
    {
     "data": {
      "text/html": [
       "<div>\n",
       "<style scoped>\n",
       "    .dataframe tbody tr th:only-of-type {\n",
       "        vertical-align: middle;\n",
       "    }\n",
       "\n",
       "    .dataframe tbody tr th {\n",
       "        vertical-align: top;\n",
       "    }\n",
       "\n",
       "    .dataframe thead th {\n",
       "        text-align: right;\n",
       "    }\n",
       "</style>\n",
       "<table border=\"1\" class=\"dataframe\">\n",
       "  <thead>\n",
       "    <tr style=\"text-align: right;\">\n",
       "      <th></th>\n",
       "      <th>Airport ID</th>\n",
       "      <th>Name</th>\n",
       "      <th>City</th>\n",
       "      <th>Country</th>\n",
       "      <th>IATA</th>\n",
       "      <th>ICAO</th>\n",
       "      <th>Latitude</th>\n",
       "      <th>Longitude</th>\n",
       "      <th>Altitude</th>\n",
       "      <th>Timezone</th>\n",
       "      <th>DST</th>\n",
       "      <th>Tz database time zone</th>\n",
       "      <th>Type</th>\n",
       "      <th>Source</th>\n",
       "    </tr>\n",
       "  </thead>\n",
       "  <tbody>\n",
       "    <tr>\n",
       "      <th>0</th>\n",
       "      <td>1</td>\n",
       "      <td>Goroka Airport</td>\n",
       "      <td>Goroka</td>\n",
       "      <td>Papua New Guinea</td>\n",
       "      <td>GKA</td>\n",
       "      <td>AYGA</td>\n",
       "      <td>-6.081690</td>\n",
       "      <td>145.391998</td>\n",
       "      <td>5282</td>\n",
       "      <td>10</td>\n",
       "      <td>U</td>\n",
       "      <td>Pacific/Port_Moresby</td>\n",
       "      <td>airport</td>\n",
       "      <td>OurAirports</td>\n",
       "    </tr>\n",
       "    <tr>\n",
       "      <th>1</th>\n",
       "      <td>2</td>\n",
       "      <td>Madang Airport</td>\n",
       "      <td>Madang</td>\n",
       "      <td>Papua New Guinea</td>\n",
       "      <td>MAG</td>\n",
       "      <td>AYMD</td>\n",
       "      <td>-5.207080</td>\n",
       "      <td>145.789001</td>\n",
       "      <td>20</td>\n",
       "      <td>10</td>\n",
       "      <td>U</td>\n",
       "      <td>Pacific/Port_Moresby</td>\n",
       "      <td>airport</td>\n",
       "      <td>OurAirports</td>\n",
       "    </tr>\n",
       "    <tr>\n",
       "      <th>2</th>\n",
       "      <td>3</td>\n",
       "      <td>Mount Hagen Kagamuga Airport</td>\n",
       "      <td>Mount Hagen</td>\n",
       "      <td>Papua New Guinea</td>\n",
       "      <td>HGU</td>\n",
       "      <td>AYMH</td>\n",
       "      <td>-5.826790</td>\n",
       "      <td>144.296005</td>\n",
       "      <td>5388</td>\n",
       "      <td>10</td>\n",
       "      <td>U</td>\n",
       "      <td>Pacific/Port_Moresby</td>\n",
       "      <td>airport</td>\n",
       "      <td>OurAirports</td>\n",
       "    </tr>\n",
       "    <tr>\n",
       "      <th>3</th>\n",
       "      <td>4</td>\n",
       "      <td>Nadzab Airport</td>\n",
       "      <td>Nadzab</td>\n",
       "      <td>Papua New Guinea</td>\n",
       "      <td>LAE</td>\n",
       "      <td>AYNZ</td>\n",
       "      <td>-6.569803</td>\n",
       "      <td>146.725977</td>\n",
       "      <td>239</td>\n",
       "      <td>10</td>\n",
       "      <td>U</td>\n",
       "      <td>Pacific/Port_Moresby</td>\n",
       "      <td>airport</td>\n",
       "      <td>OurAirports</td>\n",
       "    </tr>\n",
       "    <tr>\n",
       "      <th>4</th>\n",
       "      <td>5</td>\n",
       "      <td>Port Moresby Jacksons International Airport</td>\n",
       "      <td>Port Moresby</td>\n",
       "      <td>Papua New Guinea</td>\n",
       "      <td>POM</td>\n",
       "      <td>AYPY</td>\n",
       "      <td>-9.443380</td>\n",
       "      <td>147.220001</td>\n",
       "      <td>146</td>\n",
       "      <td>10</td>\n",
       "      <td>U</td>\n",
       "      <td>Pacific/Port_Moresby</td>\n",
       "      <td>airport</td>\n",
       "      <td>OurAirports</td>\n",
       "    </tr>\n",
       "  </tbody>\n",
       "</table>\n",
       "</div>"
      ],
      "text/plain": [
       "   Airport ID                                         Name          City  \\\n",
       "0           1                               Goroka Airport        Goroka   \n",
       "1           2                               Madang Airport        Madang   \n",
       "2           3                 Mount Hagen Kagamuga Airport   Mount Hagen   \n",
       "3           4                               Nadzab Airport        Nadzab   \n",
       "4           5  Port Moresby Jacksons International Airport  Port Moresby   \n",
       "\n",
       "            Country IATA  ICAO  Latitude   Longitude  Altitude Timezone DST  \\\n",
       "0  Papua New Guinea  GKA  AYGA -6.081690  145.391998      5282       10   U   \n",
       "1  Papua New Guinea  MAG  AYMD -5.207080  145.789001        20       10   U   \n",
       "2  Papua New Guinea  HGU  AYMH -5.826790  144.296005      5388       10   U   \n",
       "3  Papua New Guinea  LAE  AYNZ -6.569803  146.725977       239       10   U   \n",
       "4  Papua New Guinea  POM  AYPY -9.443380  147.220001       146       10   U   \n",
       "\n",
       "  Tz database time zone     Type       Source  \n",
       "0  Pacific/Port_Moresby  airport  OurAirports  \n",
       "1  Pacific/Port_Moresby  airport  OurAirports  \n",
       "2  Pacific/Port_Moresby  airport  OurAirports  \n",
       "3  Pacific/Port_Moresby  airport  OurAirports  \n",
       "4  Pacific/Port_Moresby  airport  OurAirports  "
      ]
     },
     "execution_count": 3,
     "metadata": {},
     "output_type": "execute_result"
    }
   ],
   "source": [
    "airports.head()"
   ]
  },
  {
   "cell_type": "code",
   "execution_count": 4,
   "id": "5c5e9ef2",
   "metadata": {},
   "outputs": [
    {
     "data": {
      "text/html": [
       "<div>\n",
       "<style scoped>\n",
       "    .dataframe tbody tr th:only-of-type {\n",
       "        vertical-align: middle;\n",
       "    }\n",
       "\n",
       "    .dataframe tbody tr th {\n",
       "        vertical-align: top;\n",
       "    }\n",
       "\n",
       "    .dataframe thead th {\n",
       "        text-align: right;\n",
       "    }\n",
       "</style>\n",
       "<table border=\"1\" class=\"dataframe\">\n",
       "  <thead>\n",
       "    <tr style=\"text-align: right;\">\n",
       "      <th></th>\n",
       "      <th>Airline</th>\n",
       "      <th>Airline ID</th>\n",
       "      <th>Source airport</th>\n",
       "      <th>Source airport ID</th>\n",
       "      <th>Destination airport</th>\n",
       "      <th>Destination airport ID</th>\n",
       "      <th>Codeshare</th>\n",
       "      <th>Stops</th>\n",
       "      <th>Equipment</th>\n",
       "    </tr>\n",
       "  </thead>\n",
       "  <tbody>\n",
       "    <tr>\n",
       "      <th>0</th>\n",
       "      <td>2B</td>\n",
       "      <td>410</td>\n",
       "      <td>AER</td>\n",
       "      <td>2965</td>\n",
       "      <td>KZN</td>\n",
       "      <td>2990</td>\n",
       "      <td>NaN</td>\n",
       "      <td>0</td>\n",
       "      <td>CR2</td>\n",
       "    </tr>\n",
       "    <tr>\n",
       "      <th>1</th>\n",
       "      <td>2B</td>\n",
       "      <td>410</td>\n",
       "      <td>ASF</td>\n",
       "      <td>2966</td>\n",
       "      <td>KZN</td>\n",
       "      <td>2990</td>\n",
       "      <td>NaN</td>\n",
       "      <td>0</td>\n",
       "      <td>CR2</td>\n",
       "    </tr>\n",
       "    <tr>\n",
       "      <th>2</th>\n",
       "      <td>2B</td>\n",
       "      <td>410</td>\n",
       "      <td>ASF</td>\n",
       "      <td>2966</td>\n",
       "      <td>MRV</td>\n",
       "      <td>2962</td>\n",
       "      <td>NaN</td>\n",
       "      <td>0</td>\n",
       "      <td>CR2</td>\n",
       "    </tr>\n",
       "    <tr>\n",
       "      <th>3</th>\n",
       "      <td>2B</td>\n",
       "      <td>410</td>\n",
       "      <td>CEK</td>\n",
       "      <td>2968</td>\n",
       "      <td>KZN</td>\n",
       "      <td>2990</td>\n",
       "      <td>NaN</td>\n",
       "      <td>0</td>\n",
       "      <td>CR2</td>\n",
       "    </tr>\n",
       "    <tr>\n",
       "      <th>4</th>\n",
       "      <td>2B</td>\n",
       "      <td>410</td>\n",
       "      <td>CEK</td>\n",
       "      <td>2968</td>\n",
       "      <td>OVB</td>\n",
       "      <td>4078</td>\n",
       "      <td>NaN</td>\n",
       "      <td>0</td>\n",
       "      <td>CR2</td>\n",
       "    </tr>\n",
       "  </tbody>\n",
       "</table>\n",
       "</div>"
      ],
      "text/plain": [
       "  Airline Airline ID Source airport Source airport ID Destination airport  \\\n",
       "0      2B        410            AER              2965                 KZN   \n",
       "1      2B        410            ASF              2966                 KZN   \n",
       "2      2B        410            ASF              2966                 MRV   \n",
       "3      2B        410            CEK              2968                 KZN   \n",
       "4      2B        410            CEK              2968                 OVB   \n",
       "\n",
       "  Destination airport ID Codeshare  Stops Equipment  \n",
       "0                   2990       NaN      0       CR2  \n",
       "1                   2990       NaN      0       CR2  \n",
       "2                   2962       NaN      0       CR2  \n",
       "3                   2990       NaN      0       CR2  \n",
       "4                   4078       NaN      0       CR2  "
      ]
     },
     "execution_count": 4,
     "metadata": {},
     "output_type": "execute_result"
    }
   ],
   "source": [
    "routes.head()"
   ]
  },
  {
   "cell_type": "code",
   "execution_count": 5,
   "id": "ce00776c",
   "metadata": {},
   "outputs": [
    {
     "data": {
      "text/plain": [
       "(0, 0)"
      ]
     },
     "execution_count": 5,
     "metadata": {},
     "output_type": "execute_result"
    }
   ],
   "source": [
    "# check duplicated\n",
    "airports.duplicated().sum(), routes.duplicated().sum()"
   ]
  },
  {
   "cell_type": "code",
   "execution_count": 6,
   "id": "d36ea1f6",
   "metadata": {},
   "outputs": [
    {
     "data": {
      "text/html": [
       "<div>\n",
       "<style scoped>\n",
       "    .dataframe tbody tr th:only-of-type {\n",
       "        vertical-align: middle;\n",
       "    }\n",
       "\n",
       "    .dataframe tbody tr th {\n",
       "        vertical-align: top;\n",
       "    }\n",
       "\n",
       "    .dataframe thead th {\n",
       "        text-align: right;\n",
       "    }\n",
       "</style>\n",
       "<table border=\"1\" class=\"dataframe\">\n",
       "  <thead>\n",
       "    <tr style=\"text-align: right;\">\n",
       "      <th></th>\n",
       "      <th>Airline</th>\n",
       "      <th>Airline ID</th>\n",
       "      <th>Source airport</th>\n",
       "      <th>Source airport ID</th>\n",
       "      <th>Destination airport</th>\n",
       "      <th>Destination airport ID</th>\n",
       "      <th>Codeshare</th>\n",
       "      <th>Stops</th>\n",
       "      <th>Equipment</th>\n",
       "    </tr>\n",
       "  </thead>\n",
       "  <tbody>\n",
       "  </tbody>\n",
       "</table>\n",
       "</div>"
      ],
      "text/plain": [
       "Empty DataFrame\n",
       "Columns: [Airline, Airline ID, Source airport, Source airport ID, Destination airport, Destination airport ID, Codeshare, Stops, Equipment]\n",
       "Index: []"
      ]
     },
     "execution_count": 6,
     "metadata": {},
     "output_type": "execute_result"
    }
   ],
   "source": [
    "routes[routes['Destination airport'].str.len() > 3]"
   ]
  },
  {
   "cell_type": "code",
   "execution_count": 7,
   "id": "240e2d44",
   "metadata": {},
   "outputs": [
    {
     "data": {
      "text/html": [
       "<div>\n",
       "<style scoped>\n",
       "    .dataframe tbody tr th:only-of-type {\n",
       "        vertical-align: middle;\n",
       "    }\n",
       "\n",
       "    .dataframe tbody tr th {\n",
       "        vertical-align: top;\n",
       "    }\n",
       "\n",
       "    .dataframe thead th {\n",
       "        text-align: right;\n",
       "    }\n",
       "</style>\n",
       "<table border=\"1\" class=\"dataframe\">\n",
       "  <thead>\n",
       "    <tr style=\"text-align: right;\">\n",
       "      <th></th>\n",
       "      <th>Airline</th>\n",
       "      <th>Airline ID</th>\n",
       "      <th>Source airport</th>\n",
       "      <th>Source airport ID</th>\n",
       "      <th>Destination airport</th>\n",
       "      <th>Destination airport ID</th>\n",
       "      <th>Codeshare</th>\n",
       "      <th>Stops</th>\n",
       "      <th>Equipment</th>\n",
       "    </tr>\n",
       "  </thead>\n",
       "  <tbody>\n",
       "  </tbody>\n",
       "</table>\n",
       "</div>"
      ],
      "text/plain": [
       "Empty DataFrame\n",
       "Columns: [Airline, Airline ID, Source airport, Source airport ID, Destination airport, Destination airport ID, Codeshare, Stops, Equipment]\n",
       "Index: []"
      ]
     },
     "execution_count": 7,
     "metadata": {},
     "output_type": "execute_result"
    }
   ],
   "source": [
    "routes[routes['Source airport'].str.len() > 3]"
   ]
  },
  {
   "cell_type": "markdown",
   "id": "814e22a0",
   "metadata": {},
   "source": [
    "All the aiports in routes use IATA"
   ]
  },
  {
   "cell_type": "markdown",
   "id": "9fac663c",
   "metadata": {},
   "source": [
    "# Data Preprocess"
   ]
  },
  {
   "cell_type": "markdown",
   "id": "ae91d4e2",
   "metadata": {},
   "source": [
    "## Columns Select"
   ]
  },
  {
   "cell_type": "code",
   "execution_count": 8,
   "id": "52c61921",
   "metadata": {},
   "outputs": [],
   "source": [
    "airports_s = airports.loc[:,['IATA','Latitude','Longitude']]\n",
    "routes_s = routes.loc[:,['Source airport','Destination airport']]\n",
    "# Delete all airports without IATA\n",
    "airports_s = airports_s[airports_s['IATA']!='\\\\N']"
   ]
  },
  {
   "cell_type": "code",
   "execution_count": 9,
   "id": "5a312a18",
   "metadata": {},
   "outputs": [
    {
     "data": {
      "text/plain": [
       "(IATA         0\n",
       " Latitude     0\n",
       " Longitude    0\n",
       " dtype: int64,\n",
       " Source airport         0\n",
       " Destination airport    0\n",
       " dtype: int64)"
      ]
     },
     "execution_count": 9,
     "metadata": {},
     "output_type": "execute_result"
    }
   ],
   "source": [
    "# check null\n",
    "airports_s.isnull().sum(), routes_s.isnull().sum()"
   ]
  },
  {
   "cell_type": "markdown",
   "id": "0a2c5346",
   "metadata": {},
   "source": [
    "## Route counts"
   ]
  },
  {
   "cell_type": "code",
   "execution_count": 10,
   "id": "324c83ba",
   "metadata": {},
   "outputs": [
    {
     "name": "stdout",
     "output_type": "stream",
     "text": [
      "Length of routes list: 1621\n"
     ]
    }
   ],
   "source": [
    "# 统计每条路线出现的次数\n",
    "route_counts = routes_s.value_counts().reset_index()\n",
    "route_counts.columns = ['Source airport', 'Destination airport', 'Count']\n",
    "\n",
    "def filtered_routes_list(n,m=9999):\n",
    "    # save as [('Source airport','Destination airport')]\n",
    "    routes_list = [\n",
    "    (row['Source airport'], row['Destination airport'])\n",
    "    for _, row in route_counts[(route_counts['Count'] >= n) & (route_counts['Count'] < m)].iterrows()\n",
    "]\n",
    "    return routes_list\n",
    "\n",
    "def filtered_routes_dict(n,m=9999):\n",
    "    # save as {('Source airport','Destination airport'): count}\n",
    "    routes_dict = {\n",
    "    (row['Source airport'], row['Destination airport']): row['Count']\n",
    "    for _, row in route_counts[(route_counts['Count'] >= n) & (route_counts['Count'] < m)].iterrows()\n",
    "    }\n",
    "    return routes_dict\n",
    "\n",
    "routes_list = filtered_routes_list(5) # As the data is too big, we only choose routes that had appeared five or more times\n",
    "routes_dict = filtered_routes_dict(5)\n",
    "print(\"Length of routes list:\", len(routes_list))"
   ]
  },
  {
   "cell_type": "markdown",
   "id": "91df04b2",
   "metadata": {},
   "source": [
    "## Flight counts in each airport"
   ]
  },
  {
   "cell_type": "code",
   "execution_count": 11,
   "id": "d11fcc35",
   "metadata": {},
   "outputs": [
    {
     "name": "stdout",
     "output_type": "stream",
     "text": [
      "Length of flight counts list: 385\n"
     ]
    }
   ],
   "source": [
    "# 计算每个机场的起飞总数\n",
    "departure_counts = route_counts.groupby('Source airport')['Count'].sum().rename('Departures')\n",
    "\n",
    "# 计算每个机场的降落总数\n",
    "arrival_counts = route_counts.groupby('Destination airport')['Count'].sum().rename('Arrivals')\n",
    "\n",
    "# 合并起飞和降落数据\n",
    "flight_counts = pd.concat([departure_counts, arrival_counts], axis=1).fillna(0)\n",
    "\n",
    "def filtered_flight_counts_list(routines_list):\n",
    "    # Save as [('Airport'),flight counts]\n",
    "    \n",
    "    # Extract all airports involved in the routes_list, and filter airports in flight_counts that are not included in routines_list\n",
    "    filtered_flight_counts = flight_counts.loc[\n",
    "        flight_counts.index.intersection({airport for route in routines_list for airport in route})\n",
    "    ]\n",
    "    # Convert to pycharts input format\n",
    "    flight_counts_list = sorted(\n",
    "        [\n",
    "            (airport, int(departures + arrivals))\n",
    "            for airport, departures, arrivals in filtered_flight_counts.itertuples(index=True, name=None)\n",
    "        ],\n",
    "        key=lambda x: x[1],  # sort by total flights counts\n",
    "        reverse=True\n",
    "    )\n",
    "    return flight_counts_list\n",
    "\n",
    "flight_counts_list = filtered_flight_counts_list(filtered_routes_list(5))\n",
    "print(\"Length of flight counts list:\", len(flight_counts_list))"
   ]
  },
  {
   "cell_type": "markdown",
   "id": "5429e5ea",
   "metadata": {},
   "source": [
    "## Add coordinate points in Geo()"
   ]
  },
  {
   "cell_type": "code",
   "execution_count": 12,
   "id": "65c85206",
   "metadata": {},
   "outputs": [],
   "source": [
    "from pyecharts.charts import Geo\n",
    "\n",
    "for i in range(len(airports_s)):\n",
    "    Geo().add_coordinate(\n",
    "    name = airports_s.iloc[i,0],\n",
    "    latitude = airports_s.iloc[i,1],\n",
    "    longitude =  airports_s.iloc[i,2]\n",
    "    )"
   ]
  },
  {
   "cell_type": "markdown",
   "id": "05e8a70e",
   "metadata": {},
   "source": [
    "----\n",
    "Preliminary visualization\n",
    "----"
   ]
  },
  {
   "cell_type": "code",
   "execution_count": 13,
   "id": "306fadc9",
   "metadata": {},
   "outputs": [
    {
     "data": {
      "text/plain": [
       "'C:\\\\Users\\\\laoth\\\\Desktop\\\\study\\\\web\\\\echarts\\\\Aiports&Routes.html'"
      ]
     },
     "execution_count": 13,
     "metadata": {},
     "output_type": "execute_result"
    }
   ],
   "source": [
    "from pyecharts import options as opts\n",
    "from pyecharts.globals import ChartType, SymbolType\n",
    "\n",
    "# Initialize the Geo object\n",
    "c = Geo(init_opts=opts.InitOpts(width=\"1800px\", height=\"1000px\")) # Full the screen\n",
    "c.add_schema(maptype=\"world\")\n",
    "\n",
    "# Add airport scatter points\n",
    "c.add(\n",
    "    \"Airports\",\n",
    "    data_pair=flight_counts_list,  # e.g., a list of tuples [(\"ATL\", 100), (\"JFK\", 80), ...]\n",
    "    type_=ChartType.EFFECT_SCATTER,\n",
    "    color=\"red\",\n",
    "    symbol_size=3,\n",
    ")\n",
    "\n",
    "# Add airline routes for different ranges\n",
    "n = 2\n",
    "for i in range(n):\n",
    "    color = f\"rgb({255 - 250/n*(i+1)},160, {250/n*(i+1)})\"\n",
    "    c.add(\n",
    "        f\"Airline routes - counts [{5+i*2},{7+i*2})\",\n",
    "        data_pair=filtered_routes_list(5+i*2, 7+i*2),  # Replace with your route filtering function\n",
    "        type_=ChartType.LINES,\n",
    "        symbol_size=0,\n",
    "        effect_opts=opts.EffectOpts(\n",
    "            symbol=SymbolType.ARROW, symbol_size=3, color=color,  # Dynamic RGB color\n",
    "        ),\n",
    "        linestyle_opts=opts.LineStyleOpts(\n",
    "            width=0.1, curve=0.4, opacity=0.4 + 0.6/n*i, type_=\"solid\",color=color,  # Dynamic RGB color\n",
    "        ),\n",
    "    )\n",
    "    \n",
    "# Add the left airline routes\n",
    "c.add(\n",
    "    f\"Airline routes - counts [{5+n*2},9999)\",\n",
    "    data_pair=filtered_routes_list(5+n*2),\n",
    "    type_=ChartType.LINES,\n",
    "    symbol_size = 0,\n",
    "    effect_opts=opts.EffectOpts(        \n",
    "        symbol=SymbolType.ARROW, symbol_size=3, color=\"blue\"\n",
    "    ),\n",
    "    linestyle_opts=opts.LineStyleOpts(width = 0.1, curve=0.4, color = \"blue\",opacity = 1, type_ = 'solid'),\n",
    ")\n",
    "\n",
    "c.set_series_opts(label_opts=opts.LabelOpts(is_show=False))\n",
    "c.set_global_opts(title_opts=opts.TitleOpts(title=\"Aiport and Routes (Basic)\",pos_left = 'center'),\n",
    "                  legend_opts = opts.LegendOpts(type_ = 'scroll',orient = 'vertical',pos_left = 'left'))\n",
    "c.render('echarts\\\\Aiports&Routes.html') # save as .html\n",
    "# c.render_notebook() # if you want to display the graph in notebook, add this line, and set (width=\"900px\", height=\"500px\")"
   ]
  },
  {
   "cell_type": "markdown",
   "id": "649acc3a",
   "metadata": {},
   "source": [
    "# Community Detection"
   ]
  },
  {
   "cell_type": "code",
   "execution_count": 14,
   "id": "e96c5f13",
   "metadata": {},
   "outputs": [],
   "source": [
    "import networkx as nx\n",
    "Community = nx.Graph()\n",
    "Community.add_edges_from(routes_list)"
   ]
  },
  {
   "cell_type": "markdown",
   "id": "508dd58d",
   "metadata": {},
   "source": [
    "## Clique detection"
   ]
  },
  {
   "cell_type": "code",
   "execution_count": 15,
   "id": "036ad924",
   "metadata": {},
   "outputs": [],
   "source": [
    "# Find all cliques in the graph\n",
    "cliques = list(nx.find_cliques(Community))\n",
    "# cliques"
   ]
  },
  {
   "cell_type": "code",
   "execution_count": 16,
   "id": "b6b31a9b",
   "metadata": {},
   "outputs": [],
   "source": [
    "# Create an empty dictionary to store the nodes by clique size\n",
    "clique_nodes = {}\n",
    "\n",
    "# Iterate through each detected clique\n",
    "for clique in cliques:\n",
    "    clique_length = len(clique)  # Get the size of the clique\n",
    "    \n",
    "    # If the clique length is already a key, add the nodes to the list of nodes for this length\n",
    "    cli = clique.copy()\n",
    "    if clique_length in clique_nodes:\n",
    "        clique_nodes[clique_length] += cli\n",
    "    else:\n",
    "        clique_nodes[clique_length] = cli\n",
    "\n",
    "# Remove duplicates by converting each list to a set and then back to a list\n",
    "for length in clique_nodes:\n",
    "    clique_nodes[length] = list(set(clique_nodes[length]))\n",
    "\n",
    "clique_nodes = dict(sorted(clique_nodes.items()))\n",
    "# clique_nodes"
   ]
  },
  {
   "cell_type": "code",
   "execution_count": 17,
   "id": "1a9c1e21",
   "metadata": {},
   "outputs": [],
   "source": [
    "# add flight counts to each k-core airport\n",
    "clique_nodes_count = clique_nodes.copy()\n",
    "for i in clique_nodes.keys():\n",
    "    clique_nodes_count[i] = [\n",
    "        (airport,count)\n",
    "        for airport,count in flight_counts_list\n",
    "        if airport in clique_nodes[i]\n",
    "    ]\n",
    "# clique_nodes_count"
   ]
  },
  {
   "cell_type": "code",
   "execution_count": 18,
   "id": "7e324c48",
   "metadata": {},
   "outputs": [],
   "source": [
    "# Assuming clique_length_nodes contains the cliques by length, and routes_list contains routes\n",
    "clique_routes = {}\n",
    "\n",
    "# Iterate through each route in routes_list\n",
    "for route in routes_list:\n",
    "    source_airport, destination_airport = route\n",
    "\n",
    "    # Initialize variable to store the maximum clique length where both airports belong\n",
    "    max_clique_length = -1\n",
    "\n",
    "    # Check which clique length both airports belong to\n",
    "    for clique_length, nodes in clique_nodes.items():\n",
    "        if source_airport in nodes and destination_airport in nodes:\n",
    "            max_clique_length = max(max_clique_length, clique_length)\n",
    "\n",
    "    # If both airports are found in a clique, add the route to the corresponding clique length\n",
    "    if max_clique_length != -1:\n",
    "        if max_clique_length not in clique_routes:\n",
    "            clique_routes[max_clique_length] = []\n",
    "        clique_routes[max_clique_length].append(route)\n",
    "\n",
    "clique_routes = dict(sorted(clique_routes.items()))\n",
    "# clique_routes"
   ]
  },
  {
   "cell_type": "markdown",
   "id": "406e9221",
   "metadata": {},
   "source": [
    "### Draw Cliques"
   ]
  },
  {
   "cell_type": "code",
   "execution_count": 19,
   "id": "a7742d10",
   "metadata": {},
   "outputs": [
    {
     "data": {
      "text/plain": [
       "'C:\\\\Users\\\\laoth\\\\Desktop\\\\study\\\\web\\\\echarts\\\\cliques.html'"
      ]
     },
     "execution_count": 19,
     "metadata": {},
     "output_type": "execute_result"
    }
   ],
   "source": [
    "# Initialize the Geo object\n",
    "c = Geo(init_opts=opts.InitOpts(width=\"1800px\", height=\"1000px\")) # Full the screen\n",
    "c.add_schema(maptype=\"world\")\n",
    "\n",
    "L_n = len(clique_nodes.keys())\n",
    "L_e = len(clique_routes.keys())\n",
    "\n",
    "# Add airport scatter points\n",
    "for i, key in enumerate(clique_nodes.keys()):\n",
    "    rate = i/L_n\n",
    "    color = f\"rgb({255 - 250*rate},0, 0)\"\n",
    "    c.add(\n",
    "        f\"Airports {key}-clique\",\n",
    "        data_pair=clique_nodes_count[key],\n",
    "        type_=ChartType.EFFECT_SCATTER,\n",
    "        color=color,\n",
    "        symbol_size=3,\n",
    "    )\n",
    "\n",
    "for i, key in enumerate(clique_routes.keys()):\n",
    "    # Add airline routes for different ranges\n",
    "    rate = i/L_e\n",
    "    color = f\"rgb({255 - 250*rate},160, {250*rate})\"\n",
    "    c.add(\n",
    "        f\"Routes {key}-clique\",\n",
    "        data_pair=clique_routes[key],  # Replace with your route filtering function\n",
    "        type_=ChartType.LINES,\n",
    "        symbol_size=0,\n",
    "        effect_opts=opts.EffectOpts(\n",
    "            symbol=SymbolType.ARROW, symbol_size=3, color=color,  # Dynamic RGB color\n",
    "        ),\n",
    "        linestyle_opts=opts.LineStyleOpts(\n",
    "            width=0.1, curve=0.4, opacity=0.4 + 0.6*rate, type_=\"solid\",color=color,  # Dynamic RGB color\n",
    "        ),\n",
    "    )\n",
    "\n",
    "c.set_series_opts(label_opts=opts.LabelOpts(is_show=False))\n",
    "c.set_global_opts(title_opts=opts.TitleOpts(title=\"Aiport and Routes (Cliques)\",pos_left = 'center'),\n",
    "                  legend_opts = opts.LegendOpts(type_ = 'scroll',orient = 'vertical',pos_left = 'left'))\n",
    "c.render('echarts\\\\cliques.html') # save as .html\n",
    "# c.render_notebook() # if you want to display the graph in notebook, add this line, and set (width=\"900px\", height=\"500px\")"
   ]
  },
  {
   "cell_type": "markdown",
   "id": "3334b5bb",
   "metadata": {},
   "source": [
    "## K-cores"
   ]
  },
  {
   "cell_type": "code",
   "execution_count": 20,
   "id": "fc8f08aa",
   "metadata": {},
   "outputs": [],
   "source": [
    "def k_cores(G):\n",
    "    k = 1\n",
    "    k_cores_nodes = {}\n",
    "    k_cores_edges = {}\n",
    "    while True:\n",
    "        # Compute k-core for the current value of k\n",
    "        k_core = nx.k_core(G, k=k)\n",
    "        \n",
    "        # If no nodes are left, stop\n",
    "        if not k_core.nodes:\n",
    "            k -= 1\n",
    "            break\n",
    "        \n",
    "        # Store nodes and edges of the current k-core\n",
    "        k_cores_nodes[k] = list(k_core.nodes)\n",
    "        k_cores_edges[k] = list(k_core.edges)\n",
    "        \n",
    "        #-------This section is to reduce the size of the image, but will be little different from the result of kcore\n",
    "        # Subtract previous k-cores' nodes and edges\n",
    "        if k > 1:\n",
    "            k_cores_nodes[k-1] = list(set(k_cores_nodes[k-1]) - set(k_cores_nodes[k]))\n",
    "            k_cores_edges[k-1] = list(set(k_cores_edges[k-1]) - set(k_cores_edges[k]))\n",
    "\n",
    "\n",
    "        k += 1  # Increment k for the next iteration\n",
    "\n",
    "    return k, k_cores_nodes, k_cores_edges"
   ]
  },
  {
   "cell_type": "code",
   "execution_count": 21,
   "id": "173f4a19",
   "metadata": {},
   "outputs": [
    {
     "name": "stdout",
     "output_type": "stream",
     "text": [
      "Max-k: 9\n"
     ]
    }
   ],
   "source": [
    "k, k_nodes, k_edges = k_cores(Community)\n",
    "print('Max-k:',k)\n",
    "# print(\"K-Cores (Nodes):\", k_nodes)\n",
    "# print(\"K-Cores (Edges):\", k_edges)"
   ]
  },
  {
   "cell_type": "code",
   "execution_count": 22,
   "id": "403367d4",
   "metadata": {},
   "outputs": [],
   "source": [
    "# add flight counts to each k-core airport\n",
    "k_nodes_count = k_nodes.copy()\n",
    "for i in range(1,k+1):\n",
    "    k_nodes_count[i] = [\n",
    "        (airport,count)\n",
    "        for airport,count in flight_counts_list\n",
    "        if airport in k_nodes[i]\n",
    "    ]\n",
    "# Output the result\n",
    "#  print(k_nodes_count)"
   ]
  },
  {
   "cell_type": "markdown",
   "id": "4e44d6e9",
   "metadata": {},
   "source": [
    "### Draw K-cores"
   ]
  },
  {
   "cell_type": "code",
   "execution_count": 23,
   "id": "da922a2a",
   "metadata": {},
   "outputs": [
    {
     "data": {
      "text/plain": [
       "'C:\\\\Users\\\\laoth\\\\Desktop\\\\study\\\\web\\\\echarts\\\\k-cores.html'"
      ]
     },
     "execution_count": 23,
     "metadata": {},
     "output_type": "execute_result"
    }
   ],
   "source": [
    "# Initialize the Geo object\n",
    "c = Geo(init_opts=opts.InitOpts(width=\"1800px\", height=\"1000px\")) # Full the screen\n",
    "c.add_schema(maptype=\"world\")\n",
    "\n",
    "L_n = len(k_nodes.keys())\n",
    "L_e = len(k_edges.keys())\n",
    "\n",
    "for i, key in enumerate(k_nodes.keys()):\n",
    "    # Add airport scatter points\n",
    "    rate = i/L_n\n",
    "    color = f\"rgb({255 - 250*rate},0, 0)\"\n",
    "    c.add(\n",
    "        f\"Airports {key}-core\",\n",
    "        data_pair=k_nodes_count[key],\n",
    "        type_=ChartType.EFFECT_SCATTER,\n",
    "        color=color,\n",
    "        symbol_size=3,\n",
    "    )\n",
    "\n",
    "for i, key in enumerate(k_edges.keys()):\n",
    "    # Add airline routes for different ranges\n",
    "    rate = i/L_e\n",
    "    color = f\"rgb({255 - 250*rate},160, {250*rate})\"\n",
    "    c.add(\n",
    "        f\"Routes {key}-core\",\n",
    "        data_pair=k_edges[key],  # Replace with your route filtering function\n",
    "        type_=ChartType.LINES,\n",
    "        symbol_size=0,\n",
    "        effect_opts=opts.EffectOpts(\n",
    "            symbol=SymbolType.ARROW, symbol_size=3, color=color,  # Dynamic RGB color\n",
    "        ),\n",
    "        linestyle_opts=opts.LineStyleOpts(\n",
    "            width=0.1, curve=0.4, opacity=0.4 + 0.6*rate, type_=\"solid\",color=color,  # Dynamic RGB color\n",
    "        ),\n",
    "    )\n",
    "\n",
    "c.set_series_opts(label_opts=opts.LabelOpts(is_show=False))\n",
    "c.set_global_opts(title_opts=opts.TitleOpts(title=\"Aiport and Routes (K-cores)\",pos_left = 'center'),\n",
    "                  legend_opts = opts.LegendOpts(type_ = 'scroll',orient = 'vertical',pos_left = 'left'))\n",
    "c.render('echarts\\\\k-cores.html') # save as .html\n",
    "# c.render_notebook() # if you want to display the graph in notebook, add this line, and set (width=\"900px\", height=\"500px\")"
   ]
  },
  {
   "cell_type": "markdown",
   "id": "d2b0eace",
   "metadata": {},
   "source": [
    "## SNN - Shared Near Neighbor"
   ]
  },
  {
   "cell_type": "code",
   "execution_count": 24,
   "id": "e0f48d78",
   "metadata": {},
   "outputs": [],
   "source": [
    "import pandas as pd\n",
    "import numpy as np\n",
    "import networkx as nx\n",
    "from typing import Dict, Tuple\n",
    "from itertools import combinations\n",
    "\n",
    "class SSN:\n",
    "    def __init__(self, snn_routes: Dict[Tuple[str, str], int], method = 'mixed'):\n",
    "        '''\n",
    "        Initialize Jarvis-Patrick clustering.\n",
    "        Parameters:\n",
    "        - snn_routes: A dictionary of route counts with keys as (source, destination)\n",
    "        - method: How similarity is calculated ('source', 'destination', or 'mixed').\n",
    "            'source': similarity calculate by route counts from source airports - only forth\n",
    "            'destination': similarity calculate by route counts to destination airports - only back\n",
    "            'mixed': similarity calculate by aggregate route counts - both back and forth\n",
    "        '''\n",
    "        if method not in ('source', 'destination', 'mixed'):\n",
    "            raise ValueError(\"Invalid method. Choose from 'source', 'destination', 'mixed'.\")\n",
    "        self.method = method\n",
    "        self.snn_routes = snn_routes.copy()\n",
    "        self.similarity_df = None\n",
    "        \n",
    "    def similarity_matrix_calu(self):\n",
    "        \"\"\"Calculate the similarity matrix based on the chosen method.\"\"\"\n",
    "        # Extract unique airports\n",
    "        snn_airports = list(set([airport for route in self.snn_routes.keys() for airport in route]))\n",
    "        airport_index = {airport: idx for idx, airport in enumerate(snn_airports)}\n",
    "        \n",
    "        # Initialize similarity matrix\n",
    "        similarity_matrix = np.zeros((len(snn_airports), len(snn_airports)), dtype=int)\n",
    "\n",
    "        # Fill similarity matrix\n",
    "        for (source, destination), count in self.snn_routes.items():\n",
    "            i, j = airport_index[source], airport_index[destination]\n",
    "            if self.method == 'source':\n",
    "                similarity_matrix[i, j] = count\n",
    "            elif self.method == 'destination':\n",
    "                similarity_matrix[j, i] = count\n",
    "            elif self.method == 'mixed':\n",
    "                similarity_matrix[i, j] += count\n",
    "                similarity_matrix[j, i] += count\n",
    "\n",
    "        # Convert to DataFrame\n",
    "        self.similarity_df = pd.DataFrame(similarity_matrix, index=snn_airports, columns=snn_airports)\n",
    "\n",
    "    def non_zero_similarity(self):\n",
    "        \"\"\"Generate descriptive statistics for non-zero similarities.\"\"\"\n",
    "        if self.similarity_df is None:\n",
    "            self.similarity_matrix_calu()\n",
    "        non_zero_counts = (self.similarity_df != 0).sum()\n",
    "        return non_zero_counts\n",
    "            \n",
    "            \n",
    "    def jp_cluster_calu(self,k=3, T1=2, T2=1):\n",
    "        \"\"\"\n",
    "        Perform Jarvis-Patrick clustering based on SNN similarity.\n",
    "\n",
    "        Parameters:\n",
    "        - k: Number of nearest neighbors to consider.\n",
    "        - T1: Minimum shared neighbors for clustering.\n",
    "        - T2: Minimum similarity score for clustering.\n",
    "\n",
    "        Returns:\n",
    "        - clusters: A dictionary with cluster indices and members.\n",
    "        \"\"\"\n",
    "        if self.similarity_df is None:\n",
    "            self.similarity_matrix_calu()\n",
    "\n",
    "        # Find k-nearest neighbors for each airport\n",
    "        neighbors = {\n",
    "            airport: self.similarity_df.loc[airport]\n",
    "            .nlargest(k + 1)  # Include self\n",
    "            .iloc[1:]         # Exclude self\n",
    "            .index.tolist()\n",
    "            for airport in self.similarity_df.index\n",
    "        }\n",
    "        self.neighbors = neighbors \n",
    "        \n",
    "        # Build graph based on shared neighbors and similarity thresholds\n",
    "        G = nx.Graph()\n",
    "        for airport, neighbor_list in neighbors.items():\n",
    "            for neighbor in neighbor_list:\n",
    "                shared_neighbors = len(set(neighbors[airport]) & set(neighbors[neighbor]))\n",
    "                if shared_neighbors >= T1 and self.similarity_df.loc[airport, neighbor] >= T2:\n",
    "                    G.add_edge(airport, neighbor)\n",
    "\n",
    "        # Find connected components (clusters)\n",
    "        self.clusters = {i: list(c) for i, c in enumerate(nx.connected_components(G))}\n",
    "        return self.clusters\n",
    "    \n",
    "    def create_snn_nodes_count(self,flight_counts_list):\n",
    "        '''create nodes data for pyechart'''\n",
    "        try: \n",
    "            self.clusters\n",
    "        except:\n",
    "            raise ValueError(\"Run .jp_cluster_calu() first.\")\n",
    "            \n",
    "        snn_nodes = [airport for cluster in self.clusters.values() for airport in cluster]\n",
    "        snn_nodes_count = [\n",
    "            (airport,count)\n",
    "            for airport,count in flight_counts_list\n",
    "            if airport in snn_nodes\n",
    "        ]\n",
    "        return snn_nodes_count\n",
    "    \n",
    "    def create_snn_edges(self):\n",
    "        '''create edges data for pyechart'''\n",
    "        try:\n",
    "            self.clusters\n",
    "        except:\n",
    "            raise ValueError(\"Run .jp_cluster_calu() first.\")\n",
    "\n",
    "        snn_edges = [\n",
    "            route\n",
    "            for cluster in self.clusters.values()\n",
    "            for route in (combinations(cluster, 2))\n",
    "        ]\n",
    "        return snn_edges"
   ]
  },
  {
   "cell_type": "code",
   "execution_count": 25,
   "id": "037d985d",
   "metadata": {},
   "outputs": [
    {
     "name": "stdout",
     "output_type": "stream",
     "text": [
      "[('DEL', 'CCU'), ('JRO', 'DAR'), ('XIY', 'WUH'), ('XIY', 'SZX'), ('XIY', 'SYX'), ('XIY', 'SHA'), ('XIY', 'KWE'), ('XIY', 'KWL'), ('XIY', 'XMN'), ('XIY', 'LJG'), ('XIY', 'NNG'), ('XIY', 'PEK'), ('XIY', 'CTU'), ('XIY', 'CSX'), ('XIY', 'CAN'), ('XIY', 'KMG'), ('XIY', 'PVG'), ('WUH', 'SZX'), ('WUH', 'SYX'), ('WUH', 'SHA'), ('WUH', 'KWE'), ('WUH', 'KWL'), ('WUH', 'XMN'), ('WUH', 'LJG'), ('WUH', 'NNG'), ('WUH', 'PEK'), ('WUH', 'CTU'), ('WUH', 'CSX'), ('WUH', 'CAN'), ('WUH', 'KMG'), ('WUH', 'PVG'), ('SZX', 'SYX'), ('SZX', 'SHA'), ('SZX', 'KWE'), ('SZX', 'KWL'), ('SZX', 'XMN'), ('SZX', 'LJG'), ('SZX', 'NNG'), ('SZX', 'PEK'), ('SZX', 'CTU'), ('SZX', 'CSX'), ('SZX', 'CAN'), ('SZX', 'KMG'), ('SZX', 'PVG'), ('SYX', 'SHA'), ('SYX', 'KWE'), ('SYX', 'KWL'), ('SYX', 'XMN'), ('SYX', 'LJG'), ('SYX', 'NNG'), ('SYX', 'PEK'), ('SYX', 'CTU'), ('SYX', 'CSX'), ('SYX', 'CAN'), ('SYX', 'KMG'), ('SYX', 'PVG'), ('SHA', 'KWE'), ('SHA', 'KWL'), ('SHA', 'XMN'), ('SHA', 'LJG'), ('SHA', 'NNG'), ('SHA', 'PEK'), ('SHA', 'CTU'), ('SHA', 'CSX'), ('SHA', 'CAN'), ('SHA', 'KMG'), ('SHA', 'PVG'), ('KWE', 'KWL'), ('KWE', 'XMN'), ('KWE', 'LJG'), ('KWE', 'NNG'), ('KWE', 'PEK'), ('KWE', 'CTU'), ('KWE', 'CSX'), ('KWE', 'CAN'), ('KWE', 'KMG'), ('KWE', 'PVG'), ('KWL', 'XMN'), ('KWL', 'LJG'), ('KWL', 'NNG'), ('KWL', 'PEK'), ('KWL', 'CTU'), ('KWL', 'CSX'), ('KWL', 'CAN'), ('KWL', 'KMG'), ('KWL', 'PVG'), ('XMN', 'LJG'), ('XMN', 'NNG'), ('XMN', 'PEK'), ('XMN', 'CTU'), ('XMN', 'CSX'), ('XMN', 'CAN'), ('XMN', 'KMG'), ('XMN', 'PVG'), ('LJG', 'NNG'), ('LJG', 'PEK'), ('LJG', 'CTU'), ('LJG', 'CSX'), ('LJG', 'CAN'), ('LJG', 'KMG'), ('LJG', 'PVG'), ('NNG', 'PEK'), ('NNG', 'CTU'), ('NNG', 'CSX'), ('NNG', 'CAN'), ('NNG', 'KMG'), ('NNG', 'PVG'), ('PEK', 'CTU'), ('PEK', 'CSX'), ('PEK', 'CAN'), ('PEK', 'KMG'), ('PEK', 'PVG'), ('CTU', 'CSX'), ('CTU', 'CAN'), ('CTU', 'KMG'), ('CTU', 'PVG'), ('CSX', 'CAN'), ('CSX', 'KMG'), ('CSX', 'PVG'), ('CAN', 'KMG'), ('CAN', 'PVG'), ('KMG', 'PVG'), ('EZE', 'SCL'), ('EZE', 'GIG'), ('SCL', 'GIG'), ('HKT', 'KUL'), ('HKT', 'NRT'), ('HKT', 'MNL'), ('HKT', 'BKK'), ('KUL', 'NRT'), ('KUL', 'MNL'), ('KUL', 'BKK'), ('NRT', 'MNL'), ('NRT', 'BKK'), ('MNL', 'BKK'), ('HET', 'HLD'), ('MAA', 'PNQ'), ('MAA', 'HYD'), ('PNQ', 'HYD'), ('PER', 'DPS'), ('PER', 'SYD'), ('PER', 'SIN'), ('PER', 'MEL'), ('DPS', 'SYD'), ('DPS', 'SIN'), ('DPS', 'MEL'), ('SYD', 'SIN'), ('SYD', 'MEL'), ('SIN', 'MEL'), ('HKG', 'TPE'), ('HKG', 'KIX'), ('TPE', 'KIX'), ('COO', 'LFW'), ('COO', 'OUA'), ('COO', 'ABJ'), ('LFW', 'OUA'), ('LFW', 'ABJ'), ('OUA', 'ABJ'), ('YEG', 'YYC'), ('MAR', 'CCS'), ('MAR', 'PMV'), ('CCS', 'PMV'), ('LCA', 'ATH'), ('ACE', 'FUE'), ('ACE', 'BHX'), ('FUE', 'BHX'), ('DEN', 'MSP'), ('DEN', 'PHX'), ('MSP', 'PHX'), ('ARN', 'HEL'), ('ARN', 'PRG'), ('HEL', 'PRG'), ('TPA', 'FLL'), ('CTS', 'SDJ'), ('NBO', 'KGL'), ('NBO', 'BJM'), ('KGL', 'BJM'), ('DKR', 'BKO'), ('CLO', 'BOG'), ('WDH', 'JNB'), ('MTY', 'GDL'), ('MAD', 'LIS'), ('MAD', 'OPO'), ('LIS', 'OPO'), ('ACC', 'LOS'), ('TIA', 'VRN'), ('MCT', 'DOH'), ('FDF', 'PTP'), ('SEA', 'MSY'), ('SEA', 'ATL'), ('MSY', 'ATL'), ('LUN', 'LLW'), ('FIH', 'SSG'), ('FIH', 'DLA'), ('SSG', 'DLA'), ('STM', 'MAO'), ('SJU', 'STT'), ('SJU', 'VQS'), ('STT', 'VQS'), ('LHR', 'BOS'), ('YYZ', 'ORD'), ('YYZ', 'YUL'), ('ORD', 'YUL'), ('TXL', 'CPH'), ('TXL', 'OSL'), ('CPH', 'OSL'), ('KWI', 'HBE')]\n"
     ]
    }
   ],
   "source": [
    "'''test'''\n",
    "snn = SSN(snn_routes = routes_dict, method = 'mixed')\n",
    "JP_clusters = snn.jp_cluster_calu(k=5, T1=2, T2=5)\n",
    "# print(snn.non_zero_similarity().describe())\n",
    "# print(\"JP_clusters:\",JP_clusters)\n",
    "# print(snn.create_snn_nodes_count(flight_counts_list))\n",
    "print(snn.create_snn_edges())"
   ]
  },
  {
   "cell_type": "markdown",
   "id": "3c4268ba",
   "metadata": {},
   "source": [
    "### SNN data"
   ]
  },
  {
   "cell_type": "code",
   "execution_count": 26,
   "id": "bf56be93",
   "metadata": {},
   "outputs": [],
   "source": [
    "snn_s = SSN(snn_routes = routes_dict, method = 'source')\n",
    "snn_s_clts = snn_s.jp_cluster_calu(k=5, T1=2, T2=1)\n",
    "snn_s_ngbs = snn_s.neighbors\n",
    "\n",
    "snn_d = SSN(snn_routes = routes_dict, method = 'destination')\n",
    "snn_d_clts = snn_d.jp_cluster_calu(k=5, T1=2, T2=1)\n",
    "snn_d_ngbs = snn_d.neighbors\n",
    "\n",
    "snn_m = SSN(snn_routes = routes_dict, method = 'mixed')\n",
    "snn_m_clts = snn_m.jp_cluster_calu(k=5, T1=2, T2=1)\n",
    "snn_m_ngbs = snn_m.neighbors\n",
    "\n",
    "snn_nodes_count = {\n",
    "    'source':snn_s.create_snn_nodes_count(flight_counts_list),\n",
    "    'destination':snn_d.create_snn_nodes_count(flight_counts_list),\n",
    "    'mixed':snn_m.create_snn_nodes_count(flight_counts_list)\n",
    "}\n",
    "snn_edges = {\n",
    "    'source':snn_s.create_snn_edges(),\n",
    "    'destination':snn_d.create_snn_edges(),\n",
    "    'mixed':snn_m.create_snn_edges()\n",
    "}"
   ]
  },
  {
   "cell_type": "markdown",
   "id": "86826b95",
   "metadata": {},
   "source": [
    "###  Draw SNN"
   ]
  },
  {
   "cell_type": "code",
   "execution_count": 27,
   "id": "5144fe69",
   "metadata": {},
   "outputs": [
    {
     "data": {
      "text/plain": [
       "'C:\\\\Users\\\\laoth\\\\Desktop\\\\study\\\\web\\\\echarts\\\\snn.html'"
      ]
     },
     "execution_count": 27,
     "metadata": {},
     "output_type": "execute_result"
    }
   ],
   "source": [
    "# Initialize the Geo object\n",
    "c = Geo(init_opts=opts.InitOpts(width=\"1800px\", height=\"1000px\")) # Full the screen\n",
    "c.add_schema(maptype=\"world\")\n",
    "\n",
    "L_n = len(snn_nodes_count.keys())\n",
    "L_e = len(snn_edges.keys())\n",
    "\n",
    "for i, key in enumerate(snn_nodes_count.keys()):\n",
    "    # Add airport scatter points\n",
    "    rate = i/L_n\n",
    "    color = f\"rgb({255 - 250*rate},0, 0)\"\n",
    "    c.add(\n",
    "        f\"Airports SNN-{key}\",\n",
    "        data_pair=snn_nodes_count[key],\n",
    "        type_=ChartType.EFFECT_SCATTER,\n",
    "        color=color,\n",
    "        symbol_size=3,\n",
    "    )\n",
    "    \n",
    "for i, key in enumerate(snn_edges.keys()):\n",
    "    # Add airline routes for different ranges\n",
    "    rate = i/L_e\n",
    "    color = f\"rgb({255 - 250*rate},160, {250*rate})\"\n",
    "    c.add(\n",
    "        f\"Routes SNN-{key}\",\n",
    "        data_pair=snn_edges[key],  # Replace with your route filtering function\n",
    "        type_=ChartType.LINES,\n",
    "        symbol_size=0,\n",
    "        effect_opts=opts.EffectOpts(\n",
    "            symbol=SymbolType.ARROW, symbol_size=0, color=color,  # Dynamic RGB color\n",
    "        ),\n",
    "        linestyle_opts=opts.LineStyleOpts(\n",
    "            width=0.2, curve=0, opacity=1, type_=\"solid\",color=color,  # Dynamic RGB color\n",
    "        ),\n",
    "    )\n",
    "\n",
    "c.set_series_opts(label_opts=opts.LabelOpts(is_show=False))\n",
    "c.set_global_opts(title_opts=opts.TitleOpts(title=\"Aiport and Routes (K-cores)\",pos_left = 'center'),\n",
    "                  legend_opts = opts.LegendOpts(type_ = 'scroll',orient = 'vertical',pos_left = 'left'))\n",
    "c.render('echarts\\\\snn.html') # save as .html\n",
    "# c.render_notebook() # if you want to display the graph in notebook, add this line, and set (width=\"900px\", height=\"500px\")"
   ]
  },
  {
   "cell_type": "markdown",
   "id": "1f7281c6",
   "metadata": {},
   "source": [
    "## IHCS - Iterated Highly Connected Subgraphs"
   ]
  },
  {
   "cell_type": "code",
   "execution_count": 28,
   "id": "5a77002c",
   "metadata": {},
   "outputs": [],
   "source": [
    "import networkx as nx\n",
    "import numpy as np\n",
    "from collections import defaultdict\n",
    "\n",
    "class IHCS:\n",
    "    \"\"\"\n",
    "    Iterated Highly Connected Subgraphs (IHCS) clustering algorithm implementation.\n",
    "    The Iterated HCS version repeatedly applies HCS until convergence.\n",
    "    \"\"\"\n",
    "    \n",
    "    def __init__(self, min_cluster_size=3):\n",
    "        \"\"\"\n",
    "        Initialize IHCS clustering algorithm.\n",
    "        \n",
    "        Args:\n",
    "            min_cluster_size (int): Minimum number of nodes in a cluster (default: 3)\n",
    "        \"\"\"\n",
    "        self.min_cluster_size = min_cluster_size\n",
    "        self.labels = {}\n",
    "        self.clusters = {}\n",
    "        \n",
    "    def fit(self, graph):\n",
    "        \"\"\"\n",
    "        Perform IHCS clustering on the input graph.\n",
    "        \n",
    "        Args:\n",
    "            graph (nx.Graph): Input graph to be clustered\n",
    "            \n",
    "        Returns:\n",
    "            dict: Cluster labels for each node\n",
    "        \"\"\"\n",
    "        self.graph = graph.copy()\n",
    "        \n",
    "        if self.graph is None or len(self.graph) == 0:\n",
    "            raise ValueError(\"No graph provided for clustering\")\n",
    "        \n",
    "        # Initial clustering\n",
    "        clustered_graph = self._ihcs_recursive(self.graph)\n",
    "        \n",
    "        # Assign labels and group clusters\n",
    "        self._assign_cluster_labels(clustered_graph)\n",
    "        self._group_clusters()\n",
    "        \n",
    "        return self.labels\n",
    "    \n",
    "    def _is_highly_connected(self, graph):\n",
    "        \"\"\"\n",
    "        Check if a graph is highly connected using edge connectivity.\n",
    "        A graph is highly connected if its edge connectivity is greater than |V|/2.\n",
    "        \"\"\"\n",
    "        n = len(graph)\n",
    "        if n <= 1:\n",
    "            return True\n",
    "        \n",
    "        try:\n",
    "            edge_connectivity = nx.edge_connectivity(graph)\n",
    "            return edge_connectivity > n/2\n",
    "        except nx.NetworkXError:\n",
    "            return False\n",
    "            \n",
    "    def _get_minimum_cut(self, graph):\n",
    "        \"\"\"Get the minimum cut of a graph\"\"\"\n",
    "        try:\n",
    "            return nx.minimum_edge_cut(graph)\n",
    "        except nx.NetworkXError:\n",
    "            return set()\n",
    "    \n",
    "    def _remove_edges(self, graph, edges):\n",
    "        \"\"\"Remove edges from graph\"\"\"\n",
    "        graph_copy = graph.copy()\n",
    "        graph_copy.remove_edges_from(edges)\n",
    "        return graph_copy\n",
    "    \n",
    "    def _ihcs_recursive(self, graph):\n",
    "        \"\"\"\n",
    "        Recursive implementation of the Iterated HCS algorithm.\n",
    "        \n",
    "        Args:\n",
    "            graph (nx.Graph): Input graph to be processed\n",
    "            \n",
    "        Returns:\n",
    "            nx.Graph: Processed graph with final clustering\n",
    "        \"\"\"\n",
    "        # Base cases\n",
    "        if len(graph) < self.min_cluster_size:\n",
    "            return graph\n",
    "            \n",
    "        if not nx.is_connected(graph):\n",
    "            # Process each component separately\n",
    "            components = [graph.subgraph(c).copy() for c in nx.connected_components(graph)]\n",
    "            result = nx.Graph()\n",
    "            for component in components:\n",
    "                if len(component) >= self.min_cluster_size:\n",
    "                    result = nx.compose(result, self._ihcs_recursive(component))\n",
    "                else:\n",
    "                    result = nx.compose(result, component)\n",
    "            return result\n",
    "        \n",
    "        # Check if current graph is highly connected\n",
    "        if self._is_highly_connected(graph):\n",
    "            return graph\n",
    "            \n",
    "        # If not highly connected, find minimum cut and split\n",
    "        min_cut = self._get_minimum_cut(graph)\n",
    "        if not min_cut:\n",
    "            return graph\n",
    "            \n",
    "        # Split graph and recursively process subgraphs\n",
    "        split_graph = self._remove_edges(graph, min_cut)\n",
    "        subgraphs = [split_graph.subgraph(c).copy() for c in nx.connected_components(split_graph)]\n",
    "        \n",
    "        # Process each subgraph\n",
    "        result = nx.Graph()\n",
    "        for subgraph in subgraphs:\n",
    "            if len(subgraph) >= self.min_cluster_size:\n",
    "                processed_subgraph = self._ihcs_recursive(subgraph)\n",
    "                result = nx.compose(result, processed_subgraph)\n",
    "            else:\n",
    "                result = nx.compose(result, subgraph)\n",
    "                \n",
    "        return result\n",
    "    \n",
    "    def _assign_cluster_labels(self, graph):\n",
    "        \"\"\"Assign cluster labels to nodes based on connected components\"\"\"\n",
    "        self.labels = {}\n",
    "        for cluster_idx, component in enumerate(nx.connected_components(graph), 1):\n",
    "            if len(component) >= self.min_cluster_size:\n",
    "                for node in component:\n",
    "                    self.labels[node] = cluster_idx\n",
    "            else:\n",
    "                # Assign small components to cluster 0 (outliers)\n",
    "                for node in component:\n",
    "                    self.labels[node] = 0\n",
    "    \n",
    "    def _group_clusters(self):\n",
    "        \"\"\"Group nodes by their cluster labels\"\"\"\n",
    "        self.clusters = defaultdict(list)\n",
    "        for node, label in self.labels.items():\n",
    "            if label == 0:\n",
    "                self.clusters['Singletons'].append(node)\n",
    "            else: \n",
    "                self.clusters[f'Subgraph-{label}'].append(node)\n",
    "        return self.clusters"
   ]
  },
  {
   "cell_type": "markdown",
   "id": "cc329508",
   "metadata": {},
   "source": [
    "### IHCS data"
   ]
  },
  {
   "cell_type": "code",
   "execution_count": null,
   "id": "0f6d82b5",
   "metadata": {},
   "outputs": [],
   "source": [
    "# Create IHCS object with minimum cluster size\n",
    "ihcs = IHCS(min_cluster_size=3)\n",
    "ihcs.fit(Community)\n",
    "\n",
    "# Get clustering results\n",
    "hcs_nodes = ihcs.clusters\n",
    "print(\"Clusters:\", hcs_nodes)"
   ]
  },
  {
   "cell_type": "markdown",
   "id": "0dd351c6",
   "metadata": {},
   "source": [
    "## LCMA - Local Clique Merging Algorithm"
   ]
  },
  {
   "cell_type": "markdown",
   "id": "47b7dc17",
   "metadata": {},
   "source": [
    "## Divisive methods"
   ]
  },
  {
   "cell_type": "markdown",
   "id": "1adc42c6",
   "metadata": {},
   "source": [
    "##  Agglomerative methods"
   ]
  },
  {
   "cell_type": "code",
   "execution_count": null,
   "id": "c85f18b5",
   "metadata": {},
   "outputs": [],
   "source": []
  },
  {
   "cell_type": "code",
   "execution_count": null,
   "id": "6b522762",
   "metadata": {},
   "outputs": [],
   "source": []
  },
  {
   "cell_type": "code",
   "execution_count": null,
   "id": "3623b056",
   "metadata": {},
   "outputs": [],
   "source": []
  },
  {
   "cell_type": "code",
   "execution_count": null,
   "id": "f06a52c2",
   "metadata": {},
   "outputs": [],
   "source": []
  }
 ],
 "metadata": {
  "kernelspec": {
   "display_name": "Python 3 (ipykernel)",
   "language": "python",
   "name": "python3"
  },
  "language_info": {
   "codemirror_mode": {
    "name": "ipython",
    "version": 3
   },
   "file_extension": ".py",
   "mimetype": "text/x-python",
   "name": "python",
   "nbconvert_exporter": "python",
   "pygments_lexer": "ipython3",
   "version": "3.10.13"
  },
  "toc": {
   "base_numbering": 1,
   "nav_menu": {},
   "number_sections": true,
   "sideBar": true,
   "skip_h1_title": false,
   "title_cell": "Table of Contents",
   "title_sidebar": "Contents",
   "toc_cell": false,
   "toc_position": {
    "height": "765.323px",
    "left": "10px",
    "top": "150px",
    "width": "236.99px"
   },
   "toc_section_display": true,
   "toc_window_display": true
  }
 },
 "nbformat": 4,
 "nbformat_minor": 5
}
